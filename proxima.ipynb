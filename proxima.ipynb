{
 "cells": [
  {
   "cell_type": "markdown",
   "id": "fa257371",
   "metadata": {},
   "source": [
    "# mengimport library"
   ]
  },
  {
   "cell_type": "code",
   "execution_count": 1,
   "id": "9c0cae58",
   "metadata": {},
   "outputs": [],
   "source": [
    "import numpy as np\n",
    "import pandas as pd\n",
    "import matplotlib.pyplot as plt\n",
    "import seaborn as sns\n",
    "pd.set_option('display.max_columns', None)\n",
    "import warnings\n",
    "warnings.filterwarnings('ignore')"
   ]
  },
  {
   "cell_type": "markdown",
   "id": "87fc1b92",
   "metadata": {},
   "source": [
    "# membaca data"
   ]
  },
  {
   "cell_type": "code",
   "execution_count": 2,
   "id": "d5205858",
   "metadata": {},
   "outputs": [
    {
     "data": {
      "text/html": [
       "<div>\n",
       "<style scoped>\n",
       "    .dataframe tbody tr th:only-of-type {\n",
       "        vertical-align: middle;\n",
       "    }\n",
       "\n",
       "    .dataframe tbody tr th {\n",
       "        vertical-align: top;\n",
       "    }\n",
       "\n",
       "    .dataframe thead th {\n",
       "        text-align: right;\n",
       "    }\n",
       "</style>\n",
       "<table border=\"1\" class=\"dataframe\">\n",
       "  <thead>\n",
       "    <tr style=\"text-align: right;\">\n",
       "      <th></th>\n",
       "      <th>X</th>\n",
       "      <th>Nama Responden</th>\n",
       "      <th>ID Interviewer:</th>\n",
       "      <th>Tanggal Interview:</th>\n",
       "      <th>Apakah Anda dan atau keluarga Anda yang tinggal serumah ada yang bekerja di bidang properti, riset pemasaran, dan media massa? [SA]</th>\n",
       "      <th>Jenis kelamin? [SA]</th>\n",
       "      <th>Dimana domisili tempat tinggal Anda? [SA]</th>\n",
       "      <th>Berapa usia Anda saat ini? [SA]</th>\n",
       "      <th>Apakah Anda sudah menikah? [SA]</th>\n",
       "      <th>Apa pekerjaan/ kegiatan utama Anda saat ini? [SA]</th>\n",
       "      <th>Apa kendaraan yang Anda &amp; keluarga miliki? (MA)</th>\n",
       "      <th>Apa kendaraan yang Anda &amp; keluarga miliki? (MA).1</th>\n",
       "      <th>Apa kendaraan yang Anda &amp; keluarga miliki? (MA).2</th>\n",
       "      <th>Apa kendaraan yang Anda &amp; keluarga miliki? (MA).3</th>\n",
       "      <th>Apa kendaraan yang Anda &amp; keluarga miliki? (MA).4</th>\n",
       "      <th>Pendidikan terakhir Anda? [SA]</th>\n",
       "      <th>Apa latar belakang agama/ keyakinan Anda? [SA]</th>\n",
       "      <th>[Family Orientation] Sebagian besar waktu liburan saya dihabiskan BERSAMA KELUARGA</th>\n",
       "      <th>[Family Orientation] Mengikuti acara keluarga adalah hal yang MEMBOSANKAN bagi saya</th>\n",
       "      <th>[Family Orientation] Keluarga pasti saya libatkan untuk setiap PENGAMBILAN KEPUTUSAN PENTING dalam hidup (pekerjaan, kuliah, investasi, dll)</th>\n",
       "      <th>[Family Orientation] Saya pasti mendahulukan kepentingan KELUARGA dibandingkan kepentingan PRIBADI</th>\n",
       "      <th>[Brand Orientation] Citra suatu Brand/ Merek sangat mempengaruhi keputusan saya dalam membeli produk</th>\n",
       "      <th>[Brand Orientation] Saya CENDERUNG LOYAL terhadap suatu Brand/ Merek</th>\n",
       "      <th>[Brand Orientation] Saya rela membayar LEBIH MAHAL untuk produk dengan Brand/ Merek yang lebih saya percaya</th>\n",
       "      <th>[Brand Orientation] Bagi saya, Brand/ Merek adalah CERMINAN KUALITAS dari produk yang ditawarkan</th>\n",
       "      <th>[Investment Orientation] Saya mencari PELUANG investasi secara rutin</th>\n",
       "      <th>[Investment Orientation] Saya rutin BERINVESTASI terlepas kondisi keuangan bulanan saya</th>\n",
       "      <th>[Investment Orientation] Bagi saya investasi merupakan cara MENGANTISIPASI kebutuhan di masa depan</th>\n",
       "      <th>[Investment Orientation] Saya MENGUASAI berbagai jenis produk investasi yang tersedia di pasar</th>\n",
       "      <th>[Decision-Structure Type] Saya selalu MELIBATKAN PIHAK LAIN dalam pengambilan keputusan</th>\n",
       "      <th>[Decision-Structure Type] Pengambilan keputusan yang saya lakukan pasti sudah menempuh PENGUMPULAN INFORMASI secara menyeluruh</th>\n",
       "      <th>[Decision-Structure Type] Saya CENDERUNG CEPAT dalam mengambil keputusan pembelian</th>\n",
       "      <th>[Decision-Structure Type] Saya hanya akan membeli bila tersedia DANA SECARA TUNAI</th>\n",
       "      <th>[Self Spontaneity] Saya selalu tertarik MENCOBA HAL BARU</th>\n",
       "      <th>[Self Spontaneity] Segala sesuatu dalam hidup saya SUDAH SAYA RENCANAKAN</th>\n",
       "      <th>[Self Spontaneity] Saya senang bila MENJADI YANG PERTAMA membeli produk baru</th>\n",
       "      <th>[Self Spontaneity] Saya menilai diri saya CENDERUNG IMPULSIF (mudah terpengaruh dalam membeli produk)</th>\n",
       "      <th>[Attitude Toward Ads] Sebelum membeli, saya SELALU MENCARI informasi PROGRAM PROMOSI yang ditawarkan</th>\n",
       "      <th>[Attitude Toward Ads] Saya suka MEMPERHATIKAN IKLAN yang muncul di media (konvensional, digital, sosial)</th>\n",
       "      <th>[Attitude Toward Ads] Saya MUDAH PERCAYA dengan iklan yang disampaikan suatu Brand/ Merek</th>\n",
       "      <th>[Attitude Toward Ads] Sebelum membeli, saya sering MEMBANDINGKAN IKLAN dengan PENGALAMAN TEMAN / ORANG LAIN yang menggunakan suatu produk</th>\n",
       "      <th>[Passion / Lifestyle Consumption] Setiap akhir pekan saya pasti ada rencana AKTIVITAS DI LUAR RUMAH</th>\n",
       "      <th>[Passion / Lifestyle Consumption] Saya sering berekreasi ke LUAR KOTA / NEGERI</th>\n",
       "      <th>[Passion / Lifestyle Consumption] Saya mengalokasikan ANGGARAN KHUSUS untuk memenuhi GAYA HIDUP saya</th>\n",
       "      <th>[Passion / Lifestyle Consumption] Saya memiliki HOBI YANG RUTIN saya jalankan</th>\n",
       "      <th>[Future Orientation / Self-Image] Bagi saya, penting untuk saya DIPANDANG BERHASIL/ SUKSES di lingkungan saya</th>\n",
       "      <th>[Future Orientation / Self-Image] Saya tidak peduli dengan PENDAPAT ORANG terhadap diri saya</th>\n",
       "      <th>[Future Orientation / Self-Image] Penting untuk saya selalu MENGIKUTI TREN yang sedang berkembang</th>\n",
       "      <th>[Future Orientation / Self-Image] Saya sering menceritakan aktivitas diri saya di SOCIAL MEDIA pribadi</th>\n",
       "    </tr>\n",
       "  </thead>\n",
       "  <tbody>\n",
       "    <tr>\n",
       "      <th>0</th>\n",
       "      <td>No Kuesioner</td>\n",
       "      <td>R1</td>\n",
       "      <td>R7</td>\n",
       "      <td>R8</td>\n",
       "      <td>Q1</td>\n",
       "      <td>Q2</td>\n",
       "      <td>Q3</td>\n",
       "      <td>Q4</td>\n",
       "      <td>Q5</td>\n",
       "      <td>Q6</td>\n",
       "      <td>Q7</td>\n",
       "      <td>Q7</td>\n",
       "      <td>Q7</td>\n",
       "      <td>Q7</td>\n",
       "      <td>Q7</td>\n",
       "      <td>Q8</td>\n",
       "      <td>Q9</td>\n",
       "      <td>FO1</td>\n",
       "      <td>FO2</td>\n",
       "      <td>FO3</td>\n",
       "      <td>FO4</td>\n",
       "      <td>BO1</td>\n",
       "      <td>BO2</td>\n",
       "      <td>BO3</td>\n",
       "      <td>BO4</td>\n",
       "      <td>IO1</td>\n",
       "      <td>IO2</td>\n",
       "      <td>IO3</td>\n",
       "      <td>IO4</td>\n",
       "      <td>DST1</td>\n",
       "      <td>DST2</td>\n",
       "      <td>DST3</td>\n",
       "      <td>DST4</td>\n",
       "      <td>SS1</td>\n",
       "      <td>SS2</td>\n",
       "      <td>SS3</td>\n",
       "      <td>SS4</td>\n",
       "      <td>ATA1</td>\n",
       "      <td>ATA2</td>\n",
       "      <td>ATA3</td>\n",
       "      <td>ATA4</td>\n",
       "      <td>LC1</td>\n",
       "      <td>LC2</td>\n",
       "      <td>LC3</td>\n",
       "      <td>LC4</td>\n",
       "      <td>SI1</td>\n",
       "      <td>SI2</td>\n",
       "      <td>SI3</td>\n",
       "      <td>SI4</td>\n",
       "    </tr>\n",
       "    <tr>\n",
       "      <th>1</th>\n",
       "      <td>1</td>\n",
       "      <td>Resp1</td>\n",
       "      <td>NaN</td>\n",
       "      <td>NaN</td>\n",
       "      <td>2</td>\n",
       "      <td>2</td>\n",
       "      <td>3</td>\n",
       "      <td>5</td>\n",
       "      <td>1</td>\n",
       "      <td>4</td>\n",
       "      <td>2</td>\n",
       "      <td>NaN</td>\n",
       "      <td>NaN</td>\n",
       "      <td>NaN</td>\n",
       "      <td>NaN</td>\n",
       "      <td>5</td>\n",
       "      <td>1</td>\n",
       "      <td>5</td>\n",
       "      <td>2</td>\n",
       "      <td>6</td>\n",
       "      <td>5</td>\n",
       "      <td>3</td>\n",
       "      <td>3</td>\n",
       "      <td>5</td>\n",
       "      <td>5</td>\n",
       "      <td>5</td>\n",
       "      <td>5</td>\n",
       "      <td>5</td>\n",
       "      <td>3</td>\n",
       "      <td>5</td>\n",
       "      <td>6</td>\n",
       "      <td>5</td>\n",
       "      <td>4</td>\n",
       "      <td>5</td>\n",
       "      <td>4</td>\n",
       "      <td>5</td>\n",
       "      <td>5</td>\n",
       "      <td>6</td>\n",
       "      <td>6</td>\n",
       "      <td>5</td>\n",
       "      <td>5</td>\n",
       "      <td>6</td>\n",
       "      <td>3</td>\n",
       "      <td>3</td>\n",
       "      <td>4</td>\n",
       "      <td>4</td>\n",
       "      <td>5</td>\n",
       "      <td>4</td>\n",
       "      <td>3</td>\n",
       "    </tr>\n",
       "    <tr>\n",
       "      <th>2</th>\n",
       "      <td>2</td>\n",
       "      <td>Resp2</td>\n",
       "      <td>NaN</td>\n",
       "      <td>NaN</td>\n",
       "      <td>2</td>\n",
       "      <td>2</td>\n",
       "      <td>3</td>\n",
       "      <td>5</td>\n",
       "      <td>1</td>\n",
       "      <td>1</td>\n",
       "      <td>2</td>\n",
       "      <td>NaN</td>\n",
       "      <td>NaN</td>\n",
       "      <td>NaN</td>\n",
       "      <td>NaN</td>\n",
       "      <td>5</td>\n",
       "      <td>1</td>\n",
       "      <td>5</td>\n",
       "      <td>2</td>\n",
       "      <td>5</td>\n",
       "      <td>4</td>\n",
       "      <td>3</td>\n",
       "      <td>2</td>\n",
       "      <td>2</td>\n",
       "      <td>3</td>\n",
       "      <td>2</td>\n",
       "      <td>2</td>\n",
       "      <td>5</td>\n",
       "      <td>2</td>\n",
       "      <td>5</td>\n",
       "      <td>5</td>\n",
       "      <td>3</td>\n",
       "      <td>3</td>\n",
       "      <td>3</td>\n",
       "      <td>4</td>\n",
       "      <td>3</td>\n",
       "      <td>2</td>\n",
       "      <td>5</td>\n",
       "      <td>5</td>\n",
       "      <td>2</td>\n",
       "      <td>4</td>\n",
       "      <td>5</td>\n",
       "      <td>3</td>\n",
       "      <td>2</td>\n",
       "      <td>3</td>\n",
       "      <td>2</td>\n",
       "      <td>5</td>\n",
       "      <td>2</td>\n",
       "      <td>2</td>\n",
       "    </tr>\n",
       "    <tr>\n",
       "      <th>3</th>\n",
       "      <td>3</td>\n",
       "      <td>Resp3</td>\n",
       "      <td>NaN</td>\n",
       "      <td>NaN</td>\n",
       "      <td>2</td>\n",
       "      <td>1</td>\n",
       "      <td>3</td>\n",
       "      <td>6</td>\n",
       "      <td>1</td>\n",
       "      <td>5</td>\n",
       "      <td>2</td>\n",
       "      <td>NaN</td>\n",
       "      <td>NaN</td>\n",
       "      <td>NaN</td>\n",
       "      <td>NaN</td>\n",
       "      <td>3</td>\n",
       "      <td>1</td>\n",
       "      <td>6</td>\n",
       "      <td>2</td>\n",
       "      <td>5</td>\n",
       "      <td>6</td>\n",
       "      <td>4</td>\n",
       "      <td>2</td>\n",
       "      <td>2</td>\n",
       "      <td>4</td>\n",
       "      <td>3</td>\n",
       "      <td>2</td>\n",
       "      <td>4</td>\n",
       "      <td>3</td>\n",
       "      <td>5</td>\n",
       "      <td>5</td>\n",
       "      <td>3</td>\n",
       "      <td>6</td>\n",
       "      <td>3</td>\n",
       "      <td>5</td>\n",
       "      <td>4</td>\n",
       "      <td>2</td>\n",
       "      <td>5</td>\n",
       "      <td>5</td>\n",
       "      <td>2</td>\n",
       "      <td>6</td>\n",
       "      <td>2</td>\n",
       "      <td>2</td>\n",
       "      <td>2</td>\n",
       "      <td>2</td>\n",
       "      <td>3</td>\n",
       "      <td>5</td>\n",
       "      <td>2</td>\n",
       "      <td>2</td>\n",
       "    </tr>\n",
       "    <tr>\n",
       "      <th>4</th>\n",
       "      <td>4</td>\n",
       "      <td>Resp4</td>\n",
       "      <td>NaN</td>\n",
       "      <td>NaN</td>\n",
       "      <td>2</td>\n",
       "      <td>2</td>\n",
       "      <td>2</td>\n",
       "      <td>2</td>\n",
       "      <td>1</td>\n",
       "      <td>5</td>\n",
       "      <td>1</td>\n",
       "      <td>2</td>\n",
       "      <td>3</td>\n",
       "      <td>NaN</td>\n",
       "      <td>NaN</td>\n",
       "      <td>5</td>\n",
       "      <td>1</td>\n",
       "      <td>6</td>\n",
       "      <td>1</td>\n",
       "      <td>6</td>\n",
       "      <td>5</td>\n",
       "      <td>5</td>\n",
       "      <td>5</td>\n",
       "      <td>5</td>\n",
       "      <td>5</td>\n",
       "      <td>5</td>\n",
       "      <td>4</td>\n",
       "      <td>5</td>\n",
       "      <td>4</td>\n",
       "      <td>6</td>\n",
       "      <td>6</td>\n",
       "      <td>5</td>\n",
       "      <td>5</td>\n",
       "      <td>5</td>\n",
       "      <td>5</td>\n",
       "      <td>6</td>\n",
       "      <td>5</td>\n",
       "      <td>4</td>\n",
       "      <td>4</td>\n",
       "      <td>4</td>\n",
       "      <td>5</td>\n",
       "      <td>6</td>\n",
       "      <td>3</td>\n",
       "      <td>5</td>\n",
       "      <td>4</td>\n",
       "      <td>5</td>\n",
       "      <td>6</td>\n",
       "      <td>5</td>\n",
       "      <td>5</td>\n",
       "    </tr>\n",
       "  </tbody>\n",
       "</table>\n",
       "</div>"
      ],
      "text/plain": [
       "              X Nama Responden ID Interviewer: Tanggal Interview:  \\\n",
       "0  No Kuesioner             R1              R7                 R8   \n",
       "1             1          Resp1             NaN                NaN   \n",
       "2             2          Resp2             NaN                NaN   \n",
       "3             3          Resp3             NaN                NaN   \n",
       "4             4          Resp4             NaN                NaN   \n",
       "\n",
       "  Apakah Anda dan atau keluarga Anda yang tinggal serumah ada yang bekerja di bidang properti, riset pemasaran, dan media massa? [SA]  \\\n",
       "0                                                 Q1                                                                                    \n",
       "1                                                  2                                                                                    \n",
       "2                                                  2                                                                                    \n",
       "3                                                  2                                                                                    \n",
       "4                                                  2                                                                                    \n",
       "\n",
       "  Jenis kelamin? [SA] Dimana domisili tempat tinggal Anda? [SA]  \\\n",
       "0                  Q2                                        Q3   \n",
       "1                   2                                         3   \n",
       "2                   2                                         3   \n",
       "3                   1                                         3   \n",
       "4                   2                                         2   \n",
       "\n",
       "  Berapa usia Anda saat ini? [SA] Apakah Anda sudah menikah? [SA]  \\\n",
       "0                              Q4                              Q5   \n",
       "1                               5                               1   \n",
       "2                               5                               1   \n",
       "3                               6                               1   \n",
       "4                               2                               1   \n",
       "\n",
       "  Apa pekerjaan/ kegiatan utama Anda saat ini? [SA]  \\\n",
       "0                                                Q6   \n",
       "1                                                 4   \n",
       "2                                                 1   \n",
       "3                                                 5   \n",
       "4                                                 5   \n",
       "\n",
       "  Apa kendaraan yang Anda & keluarga miliki? (MA)  \\\n",
       "0                                              Q7   \n",
       "1                                               2   \n",
       "2                                               2   \n",
       "3                                               2   \n",
       "4                                               1   \n",
       "\n",
       "  Apa kendaraan yang Anda & keluarga miliki? (MA).1  \\\n",
       "0                                                Q7   \n",
       "1                                               NaN   \n",
       "2                                               NaN   \n",
       "3                                               NaN   \n",
       "4                                                 2   \n",
       "\n",
       "  Apa kendaraan yang Anda & keluarga miliki? (MA).2  \\\n",
       "0                                                Q7   \n",
       "1                                               NaN   \n",
       "2                                               NaN   \n",
       "3                                               NaN   \n",
       "4                                                 3   \n",
       "\n",
       "  Apa kendaraan yang Anda & keluarga miliki? (MA).3  \\\n",
       "0                                                Q7   \n",
       "1                                               NaN   \n",
       "2                                               NaN   \n",
       "3                                               NaN   \n",
       "4                                               NaN   \n",
       "\n",
       "  Apa kendaraan yang Anda & keluarga miliki? (MA).4  \\\n",
       "0                                                Q7   \n",
       "1                                               NaN   \n",
       "2                                               NaN   \n",
       "3                                               NaN   \n",
       "4                                               NaN   \n",
       "\n",
       "  Pendidikan terakhir Anda? [SA]  \\\n",
       "0                             Q8   \n",
       "1                              5   \n",
       "2                              5   \n",
       "3                              3   \n",
       "4                              5   \n",
       "\n",
       "  Apa latar belakang agama/ keyakinan Anda? [SA]  \\\n",
       "0                                             Q9   \n",
       "1                                              1   \n",
       "2                                              1   \n",
       "3                                              1   \n",
       "4                                              1   \n",
       "\n",
       "  [Family Orientation] Sebagian besar waktu liburan saya dihabiskan BERSAMA KELUARGA  \\\n",
       "0                                                FO1                                   \n",
       "1                                                  5                                   \n",
       "2                                                  5                                   \n",
       "3                                                  6                                   \n",
       "4                                                  6                                   \n",
       "\n",
       "  [Family Orientation] Mengikuti acara keluarga adalah hal yang MEMBOSANKAN bagi saya  \\\n",
       "0                                                FO2                                    \n",
       "1                                                  2                                    \n",
       "2                                                  2                                    \n",
       "3                                                  2                                    \n",
       "4                                                  1                                    \n",
       "\n",
       "  [Family Orientation] Keluarga pasti saya libatkan untuk setiap PENGAMBILAN KEPUTUSAN PENTING dalam hidup (pekerjaan, kuliah, investasi, dll)  \\\n",
       "0                                                FO3                                                                                             \n",
       "1                                                  6                                                                                             \n",
       "2                                                  5                                                                                             \n",
       "3                                                  5                                                                                             \n",
       "4                                                  6                                                                                             \n",
       "\n",
       "  [Family Orientation] Saya pasti mendahulukan kepentingan KELUARGA dibandingkan kepentingan PRIBADI  \\\n",
       "0                                                FO4                                                   \n",
       "1                                                  5                                                   \n",
       "2                                                  4                                                   \n",
       "3                                                  6                                                   \n",
       "4                                                  5                                                   \n",
       "\n",
       "  [Brand Orientation] Citra suatu Brand/ Merek sangat mempengaruhi keputusan saya dalam membeli produk  \\\n",
       "0                                                BO1                                                     \n",
       "1                                                  3                                                     \n",
       "2                                                  3                                                     \n",
       "3                                                  4                                                     \n",
       "4                                                  5                                                     \n",
       "\n",
       "  [Brand Orientation] Saya CENDERUNG LOYAL terhadap suatu Brand/ Merek  \\\n",
       "0                                                BO2                     \n",
       "1                                                  3                     \n",
       "2                                                  2                     \n",
       "3                                                  2                     \n",
       "4                                                  5                     \n",
       "\n",
       "  [Brand Orientation] Saya rela membayar LEBIH MAHAL untuk produk dengan Brand/ Merek yang lebih saya percaya  \\\n",
       "0                                                BO3                                                            \n",
       "1                                                  5                                                            \n",
       "2                                                  2                                                            \n",
       "3                                                  2                                                            \n",
       "4                                                  5                                                            \n",
       "\n",
       "  [Brand Orientation] Bagi saya, Brand/ Merek adalah CERMINAN KUALITAS dari produk yang ditawarkan  \\\n",
       "0                                                BO4                                                 \n",
       "1                                                  5                                                 \n",
       "2                                                  3                                                 \n",
       "3                                                  4                                                 \n",
       "4                                                  5                                                 \n",
       "\n",
       "  [Investment Orientation] Saya mencari PELUANG investasi secara rutin  \\\n",
       "0                                                IO1                     \n",
       "1                                                  5                     \n",
       "2                                                  2                     \n",
       "3                                                  3                     \n",
       "4                                                  5                     \n",
       "\n",
       "  [Investment Orientation] Saya rutin BERINVESTASI terlepas kondisi keuangan bulanan saya  \\\n",
       "0                                                IO2                                        \n",
       "1                                                  5                                        \n",
       "2                                                  2                                        \n",
       "3                                                  2                                        \n",
       "4                                                  4                                        \n",
       "\n",
       "  [Investment Orientation] Bagi saya investasi merupakan cara MENGANTISIPASI kebutuhan di masa depan  \\\n",
       "0                                                IO3                                                   \n",
       "1                                                  5                                                   \n",
       "2                                                  5                                                   \n",
       "3                                                  4                                                   \n",
       "4                                                  5                                                   \n",
       "\n",
       "  [Investment Orientation] Saya MENGUASAI berbagai jenis produk investasi yang tersedia di pasar  \\\n",
       "0                                                IO4                                               \n",
       "1                                                  3                                               \n",
       "2                                                  2                                               \n",
       "3                                                  3                                               \n",
       "4                                                  4                                               \n",
       "\n",
       "  [Decision-Structure Type] Saya selalu MELIBATKAN PIHAK LAIN dalam pengambilan keputusan  \\\n",
       "0                                               DST1                                        \n",
       "1                                                  5                                        \n",
       "2                                                  5                                        \n",
       "3                                                  5                                        \n",
       "4                                                  6                                        \n",
       "\n",
       "  [Decision-Structure Type] Pengambilan keputusan yang saya lakukan pasti sudah menempuh PENGUMPULAN INFORMASI secara menyeluruh  \\\n",
       "0                                               DST2                                                                               \n",
       "1                                                  6                                                                               \n",
       "2                                                  5                                                                               \n",
       "3                                                  5                                                                               \n",
       "4                                                  6                                                                               \n",
       "\n",
       "  [Decision-Structure Type] Saya CENDERUNG CEPAT dalam mengambil keputusan pembelian  \\\n",
       "0                                               DST3                                   \n",
       "1                                                  5                                   \n",
       "2                                                  3                                   \n",
       "3                                                  3                                   \n",
       "4                                                  5                                   \n",
       "\n",
       "  [Decision-Structure Type] Saya hanya akan membeli bila tersedia DANA SECARA TUNAI  \\\n",
       "0                                               DST4                                  \n",
       "1                                                  4                                  \n",
       "2                                                  3                                  \n",
       "3                                                  6                                  \n",
       "4                                                  5                                  \n",
       "\n",
       "  [Self Spontaneity] Saya selalu tertarik MENCOBA HAL BARU  \\\n",
       "0                                                SS1         \n",
       "1                                                  5         \n",
       "2                                                  3         \n",
       "3                                                  3         \n",
       "4                                                  5         \n",
       "\n",
       "  [Self Spontaneity] Segala sesuatu dalam hidup saya SUDAH SAYA RENCANAKAN  \\\n",
       "0                                                SS2                         \n",
       "1                                                  4                         \n",
       "2                                                  4                         \n",
       "3                                                  5                         \n",
       "4                                                  5                         \n",
       "\n",
       "  [Self Spontaneity] Saya senang bila MENJADI YANG PERTAMA membeli produk baru  \\\n",
       "0                                                SS3                             \n",
       "1                                                  5                             \n",
       "2                                                  3                             \n",
       "3                                                  4                             \n",
       "4                                                  6                             \n",
       "\n",
       "  [Self Spontaneity] Saya menilai diri saya CENDERUNG IMPULSIF (mudah terpengaruh dalam membeli produk)  \\\n",
       "0                                                SS4                                                      \n",
       "1                                                  5                                                      \n",
       "2                                                  2                                                      \n",
       "3                                                  2                                                      \n",
       "4                                                  5                                                      \n",
       "\n",
       "  [Attitude Toward Ads] Sebelum membeli, saya SELALU MENCARI informasi PROGRAM PROMOSI yang ditawarkan  \\\n",
       "0                                               ATA1                                                     \n",
       "1                                                  6                                                     \n",
       "2                                                  5                                                     \n",
       "3                                                  5                                                     \n",
       "4                                                  4                                                     \n",
       "\n",
       "  [Attitude Toward Ads] Saya suka MEMPERHATIKAN IKLAN yang muncul di media (konvensional, digital, sosial)  \\\n",
       "0                                               ATA2                                                         \n",
       "1                                                  6                                                         \n",
       "2                                                  5                                                         \n",
       "3                                                  5                                                         \n",
       "4                                                  4                                                         \n",
       "\n",
       "  [Attitude Toward Ads] Saya MUDAH PERCAYA dengan iklan yang disampaikan suatu Brand/ Merek  \\\n",
       "0                                               ATA3                                          \n",
       "1                                                  5                                          \n",
       "2                                                  2                                          \n",
       "3                                                  2                                          \n",
       "4                                                  4                                          \n",
       "\n",
       "  [Attitude Toward Ads] Sebelum membeli, saya sering MEMBANDINGKAN IKLAN dengan PENGALAMAN TEMAN / ORANG LAIN yang menggunakan suatu produk  \\\n",
       "0                                               ATA4                                                                                          \n",
       "1                                                  5                                                                                          \n",
       "2                                                  4                                                                                          \n",
       "3                                                  6                                                                                          \n",
       "4                                                  5                                                                                          \n",
       "\n",
       "  [Passion / Lifestyle Consumption] Setiap akhir pekan saya pasti ada rencana AKTIVITAS DI LUAR RUMAH  \\\n",
       "0                                                LC1                                                    \n",
       "1                                                  6                                                    \n",
       "2                                                  5                                                    \n",
       "3                                                  2                                                    \n",
       "4                                                  6                                                    \n",
       "\n",
       "  [Passion / Lifestyle Consumption] Saya sering berekreasi ke LUAR KOTA / NEGERI  \\\n",
       "0                                                LC2                               \n",
       "1                                                  3                               \n",
       "2                                                  3                               \n",
       "3                                                  2                               \n",
       "4                                                  3                               \n",
       "\n",
       "  [Passion / Lifestyle Consumption] Saya mengalokasikan ANGGARAN KHUSUS untuk memenuhi GAYA HIDUP saya  \\\n",
       "0                                                LC3                                                     \n",
       "1                                                  3                                                     \n",
       "2                                                  2                                                     \n",
       "3                                                  2                                                     \n",
       "4                                                  5                                                     \n",
       "\n",
       "  [Passion / Lifestyle Consumption] Saya memiliki HOBI YANG RUTIN saya jalankan  \\\n",
       "0                                                LC4                              \n",
       "1                                                  4                              \n",
       "2                                                  3                              \n",
       "3                                                  2                              \n",
       "4                                                  4                              \n",
       "\n",
       "  [Future Orientation / Self-Image] Bagi saya, penting untuk saya DIPANDANG BERHASIL/ SUKSES di lingkungan saya  \\\n",
       "0                                                SI1                                                              \n",
       "1                                                  4                                                              \n",
       "2                                                  2                                                              \n",
       "3                                                  3                                                              \n",
       "4                                                  5                                                              \n",
       "\n",
       "  [Future Orientation / Self-Image] Saya tidak peduli dengan PENDAPAT ORANG terhadap diri saya  \\\n",
       "0                                                SI2                                             \n",
       "1                                                  5                                             \n",
       "2                                                  5                                             \n",
       "3                                                  5                                             \n",
       "4                                                  6                                             \n",
       "\n",
       "  [Future Orientation / Self-Image] Penting untuk saya selalu MENGIKUTI TREN yang sedang berkembang  \\\n",
       "0                                                SI3                                                  \n",
       "1                                                  4                                                  \n",
       "2                                                  2                                                  \n",
       "3                                                  2                                                  \n",
       "4                                                  5                                                  \n",
       "\n",
       "  [Future Orientation / Self-Image] Saya sering menceritakan aktivitas diri saya di SOCIAL MEDIA pribadi  \n",
       "0                                                SI4                                                      \n",
       "1                                                  3                                                      \n",
       "2                                                  2                                                      \n",
       "3                                                  2                                                      \n",
       "4                                                  5                                                      "
      ]
     },
     "execution_count": 2,
     "metadata": {},
     "output_type": "execute_result"
    }
   ],
   "source": [
    "df = pd.read_excel(r'D:\\lamaran kerja\\proxima\\daftar soal\\2\\PROXIMA - Data Psikografis.xlsx')\n",
    "df.head()"
   ]
  },
  {
   "cell_type": "markdown",
   "id": "9b60d77e",
   "metadata": {},
   "source": [
    "# Data Preprocessing"
   ]
  },
  {
   "cell_type": "markdown",
   "id": "4ecc9e7b",
   "metadata": {},
   "source": [
    "penghapusan kolom id interview, kolom tanggal interview, kolom X, dan kolom Nama responden dikarenakan pada kolom tersebut tidak terdapat insight yang dapat digali lebih lanjut"
   ]
  },
  {
   "cell_type": "code",
   "execution_count": 3,
   "id": "de18584a",
   "metadata": {},
   "outputs": [],
   "source": [
    "df.drop(columns=['ID Interviewer:', 'Tanggal Interview:', 'Nama Responden', 'X'], axis=1, inplace = True)"
   ]
  },
  {
   "cell_type": "code",
   "execution_count": 4,
   "id": "1e96b550",
   "metadata": {},
   "outputs": [
    {
     "data": {
      "text/html": [
       "<div>\n",
       "<style scoped>\n",
       "    .dataframe tbody tr th:only-of-type {\n",
       "        vertical-align: middle;\n",
       "    }\n",
       "\n",
       "    .dataframe tbody tr th {\n",
       "        vertical-align: top;\n",
       "    }\n",
       "\n",
       "    .dataframe thead th {\n",
       "        text-align: right;\n",
       "    }\n",
       "</style>\n",
       "<table border=\"1\" class=\"dataframe\">\n",
       "  <thead>\n",
       "    <tr style=\"text-align: right;\">\n",
       "      <th></th>\n",
       "      <th>Apakah Anda dan atau keluarga Anda yang tinggal serumah ada yang bekerja di bidang properti, riset pemasaran, dan media massa? [SA]</th>\n",
       "      <th>Jenis kelamin? [SA]</th>\n",
       "      <th>Dimana domisili tempat tinggal Anda? [SA]</th>\n",
       "      <th>Berapa usia Anda saat ini? [SA]</th>\n",
       "      <th>Apakah Anda sudah menikah? [SA]</th>\n",
       "      <th>Apa pekerjaan/ kegiatan utama Anda saat ini? [SA]</th>\n",
       "      <th>Apa kendaraan yang Anda &amp; keluarga miliki? (MA)</th>\n",
       "      <th>Apa kendaraan yang Anda &amp; keluarga miliki? (MA).1</th>\n",
       "      <th>Apa kendaraan yang Anda &amp; keluarga miliki? (MA).2</th>\n",
       "      <th>Apa kendaraan yang Anda &amp; keluarga miliki? (MA).3</th>\n",
       "      <th>Apa kendaraan yang Anda &amp; keluarga miliki? (MA).4</th>\n",
       "      <th>Pendidikan terakhir Anda? [SA]</th>\n",
       "      <th>Apa latar belakang agama/ keyakinan Anda? [SA]</th>\n",
       "      <th>[Family Orientation] Sebagian besar waktu liburan saya dihabiskan BERSAMA KELUARGA</th>\n",
       "      <th>[Family Orientation] Mengikuti acara keluarga adalah hal yang MEMBOSANKAN bagi saya</th>\n",
       "      <th>[Family Orientation] Keluarga pasti saya libatkan untuk setiap PENGAMBILAN KEPUTUSAN PENTING dalam hidup (pekerjaan, kuliah, investasi, dll)</th>\n",
       "      <th>[Family Orientation] Saya pasti mendahulukan kepentingan KELUARGA dibandingkan kepentingan PRIBADI</th>\n",
       "      <th>[Brand Orientation] Citra suatu Brand/ Merek sangat mempengaruhi keputusan saya dalam membeli produk</th>\n",
       "      <th>[Brand Orientation] Saya CENDERUNG LOYAL terhadap suatu Brand/ Merek</th>\n",
       "      <th>[Brand Orientation] Saya rela membayar LEBIH MAHAL untuk produk dengan Brand/ Merek yang lebih saya percaya</th>\n",
       "      <th>[Brand Orientation] Bagi saya, Brand/ Merek adalah CERMINAN KUALITAS dari produk yang ditawarkan</th>\n",
       "      <th>[Investment Orientation] Saya mencari PELUANG investasi secara rutin</th>\n",
       "      <th>[Investment Orientation] Saya rutin BERINVESTASI terlepas kondisi keuangan bulanan saya</th>\n",
       "      <th>[Investment Orientation] Bagi saya investasi merupakan cara MENGANTISIPASI kebutuhan di masa depan</th>\n",
       "      <th>[Investment Orientation] Saya MENGUASAI berbagai jenis produk investasi yang tersedia di pasar</th>\n",
       "      <th>[Decision-Structure Type] Saya selalu MELIBATKAN PIHAK LAIN dalam pengambilan keputusan</th>\n",
       "      <th>[Decision-Structure Type] Pengambilan keputusan yang saya lakukan pasti sudah menempuh PENGUMPULAN INFORMASI secara menyeluruh</th>\n",
       "      <th>[Decision-Structure Type] Saya CENDERUNG CEPAT dalam mengambil keputusan pembelian</th>\n",
       "      <th>[Decision-Structure Type] Saya hanya akan membeli bila tersedia DANA SECARA TUNAI</th>\n",
       "      <th>[Self Spontaneity] Saya selalu tertarik MENCOBA HAL BARU</th>\n",
       "      <th>[Self Spontaneity] Segala sesuatu dalam hidup saya SUDAH SAYA RENCANAKAN</th>\n",
       "      <th>[Self Spontaneity] Saya senang bila MENJADI YANG PERTAMA membeli produk baru</th>\n",
       "      <th>[Self Spontaneity] Saya menilai diri saya CENDERUNG IMPULSIF (mudah terpengaruh dalam membeli produk)</th>\n",
       "      <th>[Attitude Toward Ads] Sebelum membeli, saya SELALU MENCARI informasi PROGRAM PROMOSI yang ditawarkan</th>\n",
       "      <th>[Attitude Toward Ads] Saya suka MEMPERHATIKAN IKLAN yang muncul di media (konvensional, digital, sosial)</th>\n",
       "      <th>[Attitude Toward Ads] Saya MUDAH PERCAYA dengan iklan yang disampaikan suatu Brand/ Merek</th>\n",
       "      <th>[Attitude Toward Ads] Sebelum membeli, saya sering MEMBANDINGKAN IKLAN dengan PENGALAMAN TEMAN / ORANG LAIN yang menggunakan suatu produk</th>\n",
       "      <th>[Passion / Lifestyle Consumption] Setiap akhir pekan saya pasti ada rencana AKTIVITAS DI LUAR RUMAH</th>\n",
       "      <th>[Passion / Lifestyle Consumption] Saya sering berekreasi ke LUAR KOTA / NEGERI</th>\n",
       "      <th>[Passion / Lifestyle Consumption] Saya mengalokasikan ANGGARAN KHUSUS untuk memenuhi GAYA HIDUP saya</th>\n",
       "      <th>[Passion / Lifestyle Consumption] Saya memiliki HOBI YANG RUTIN saya jalankan</th>\n",
       "      <th>[Future Orientation / Self-Image] Bagi saya, penting untuk saya DIPANDANG BERHASIL/ SUKSES di lingkungan saya</th>\n",
       "      <th>[Future Orientation / Self-Image] Saya tidak peduli dengan PENDAPAT ORANG terhadap diri saya</th>\n",
       "      <th>[Future Orientation / Self-Image] Penting untuk saya selalu MENGIKUTI TREN yang sedang berkembang</th>\n",
       "      <th>[Future Orientation / Self-Image] Saya sering menceritakan aktivitas diri saya di SOCIAL MEDIA pribadi</th>\n",
       "    </tr>\n",
       "  </thead>\n",
       "  <tbody>\n",
       "    <tr>\n",
       "      <th>0</th>\n",
       "      <td>Q1</td>\n",
       "      <td>Q2</td>\n",
       "      <td>Q3</td>\n",
       "      <td>Q4</td>\n",
       "      <td>Q5</td>\n",
       "      <td>Q6</td>\n",
       "      <td>Q7</td>\n",
       "      <td>Q7</td>\n",
       "      <td>Q7</td>\n",
       "      <td>Q7</td>\n",
       "      <td>Q7</td>\n",
       "      <td>Q8</td>\n",
       "      <td>Q9</td>\n",
       "      <td>FO1</td>\n",
       "      <td>FO2</td>\n",
       "      <td>FO3</td>\n",
       "      <td>FO4</td>\n",
       "      <td>BO1</td>\n",
       "      <td>BO2</td>\n",
       "      <td>BO3</td>\n",
       "      <td>BO4</td>\n",
       "      <td>IO1</td>\n",
       "      <td>IO2</td>\n",
       "      <td>IO3</td>\n",
       "      <td>IO4</td>\n",
       "      <td>DST1</td>\n",
       "      <td>DST2</td>\n",
       "      <td>DST3</td>\n",
       "      <td>DST4</td>\n",
       "      <td>SS1</td>\n",
       "      <td>SS2</td>\n",
       "      <td>SS3</td>\n",
       "      <td>SS4</td>\n",
       "      <td>ATA1</td>\n",
       "      <td>ATA2</td>\n",
       "      <td>ATA3</td>\n",
       "      <td>ATA4</td>\n",
       "      <td>LC1</td>\n",
       "      <td>LC2</td>\n",
       "      <td>LC3</td>\n",
       "      <td>LC4</td>\n",
       "      <td>SI1</td>\n",
       "      <td>SI2</td>\n",
       "      <td>SI3</td>\n",
       "      <td>SI4</td>\n",
       "    </tr>\n",
       "    <tr>\n",
       "      <th>1</th>\n",
       "      <td>2</td>\n",
       "      <td>2</td>\n",
       "      <td>3</td>\n",
       "      <td>5</td>\n",
       "      <td>1</td>\n",
       "      <td>4</td>\n",
       "      <td>2</td>\n",
       "      <td>NaN</td>\n",
       "      <td>NaN</td>\n",
       "      <td>NaN</td>\n",
       "      <td>NaN</td>\n",
       "      <td>5</td>\n",
       "      <td>1</td>\n",
       "      <td>5</td>\n",
       "      <td>2</td>\n",
       "      <td>6</td>\n",
       "      <td>5</td>\n",
       "      <td>3</td>\n",
       "      <td>3</td>\n",
       "      <td>5</td>\n",
       "      <td>5</td>\n",
       "      <td>5</td>\n",
       "      <td>5</td>\n",
       "      <td>5</td>\n",
       "      <td>3</td>\n",
       "      <td>5</td>\n",
       "      <td>6</td>\n",
       "      <td>5</td>\n",
       "      <td>4</td>\n",
       "      <td>5</td>\n",
       "      <td>4</td>\n",
       "      <td>5</td>\n",
       "      <td>5</td>\n",
       "      <td>6</td>\n",
       "      <td>6</td>\n",
       "      <td>5</td>\n",
       "      <td>5</td>\n",
       "      <td>6</td>\n",
       "      <td>3</td>\n",
       "      <td>3</td>\n",
       "      <td>4</td>\n",
       "      <td>4</td>\n",
       "      <td>5</td>\n",
       "      <td>4</td>\n",
       "      <td>3</td>\n",
       "    </tr>\n",
       "    <tr>\n",
       "      <th>2</th>\n",
       "      <td>2</td>\n",
       "      <td>2</td>\n",
       "      <td>3</td>\n",
       "      <td>5</td>\n",
       "      <td>1</td>\n",
       "      <td>1</td>\n",
       "      <td>2</td>\n",
       "      <td>NaN</td>\n",
       "      <td>NaN</td>\n",
       "      <td>NaN</td>\n",
       "      <td>NaN</td>\n",
       "      <td>5</td>\n",
       "      <td>1</td>\n",
       "      <td>5</td>\n",
       "      <td>2</td>\n",
       "      <td>5</td>\n",
       "      <td>4</td>\n",
       "      <td>3</td>\n",
       "      <td>2</td>\n",
       "      <td>2</td>\n",
       "      <td>3</td>\n",
       "      <td>2</td>\n",
       "      <td>2</td>\n",
       "      <td>5</td>\n",
       "      <td>2</td>\n",
       "      <td>5</td>\n",
       "      <td>5</td>\n",
       "      <td>3</td>\n",
       "      <td>3</td>\n",
       "      <td>3</td>\n",
       "      <td>4</td>\n",
       "      <td>3</td>\n",
       "      <td>2</td>\n",
       "      <td>5</td>\n",
       "      <td>5</td>\n",
       "      <td>2</td>\n",
       "      <td>4</td>\n",
       "      <td>5</td>\n",
       "      <td>3</td>\n",
       "      <td>2</td>\n",
       "      <td>3</td>\n",
       "      <td>2</td>\n",
       "      <td>5</td>\n",
       "      <td>2</td>\n",
       "      <td>2</td>\n",
       "    </tr>\n",
       "    <tr>\n",
       "      <th>3</th>\n",
       "      <td>2</td>\n",
       "      <td>1</td>\n",
       "      <td>3</td>\n",
       "      <td>6</td>\n",
       "      <td>1</td>\n",
       "      <td>5</td>\n",
       "      <td>2</td>\n",
       "      <td>NaN</td>\n",
       "      <td>NaN</td>\n",
       "      <td>NaN</td>\n",
       "      <td>NaN</td>\n",
       "      <td>3</td>\n",
       "      <td>1</td>\n",
       "      <td>6</td>\n",
       "      <td>2</td>\n",
       "      <td>5</td>\n",
       "      <td>6</td>\n",
       "      <td>4</td>\n",
       "      <td>2</td>\n",
       "      <td>2</td>\n",
       "      <td>4</td>\n",
       "      <td>3</td>\n",
       "      <td>2</td>\n",
       "      <td>4</td>\n",
       "      <td>3</td>\n",
       "      <td>5</td>\n",
       "      <td>5</td>\n",
       "      <td>3</td>\n",
       "      <td>6</td>\n",
       "      <td>3</td>\n",
       "      <td>5</td>\n",
       "      <td>4</td>\n",
       "      <td>2</td>\n",
       "      <td>5</td>\n",
       "      <td>5</td>\n",
       "      <td>2</td>\n",
       "      <td>6</td>\n",
       "      <td>2</td>\n",
       "      <td>2</td>\n",
       "      <td>2</td>\n",
       "      <td>2</td>\n",
       "      <td>3</td>\n",
       "      <td>5</td>\n",
       "      <td>2</td>\n",
       "      <td>2</td>\n",
       "    </tr>\n",
       "    <tr>\n",
       "      <th>4</th>\n",
       "      <td>2</td>\n",
       "      <td>2</td>\n",
       "      <td>2</td>\n",
       "      <td>2</td>\n",
       "      <td>1</td>\n",
       "      <td>5</td>\n",
       "      <td>1</td>\n",
       "      <td>2</td>\n",
       "      <td>3</td>\n",
       "      <td>NaN</td>\n",
       "      <td>NaN</td>\n",
       "      <td>5</td>\n",
       "      <td>1</td>\n",
       "      <td>6</td>\n",
       "      <td>1</td>\n",
       "      <td>6</td>\n",
       "      <td>5</td>\n",
       "      <td>5</td>\n",
       "      <td>5</td>\n",
       "      <td>5</td>\n",
       "      <td>5</td>\n",
       "      <td>5</td>\n",
       "      <td>4</td>\n",
       "      <td>5</td>\n",
       "      <td>4</td>\n",
       "      <td>6</td>\n",
       "      <td>6</td>\n",
       "      <td>5</td>\n",
       "      <td>5</td>\n",
       "      <td>5</td>\n",
       "      <td>5</td>\n",
       "      <td>6</td>\n",
       "      <td>5</td>\n",
       "      <td>4</td>\n",
       "      <td>4</td>\n",
       "      <td>4</td>\n",
       "      <td>5</td>\n",
       "      <td>6</td>\n",
       "      <td>3</td>\n",
       "      <td>5</td>\n",
       "      <td>4</td>\n",
       "      <td>5</td>\n",
       "      <td>6</td>\n",
       "      <td>5</td>\n",
       "      <td>5</td>\n",
       "    </tr>\n",
       "  </tbody>\n",
       "</table>\n",
       "</div>"
      ],
      "text/plain": [
       "  Apakah Anda dan atau keluarga Anda yang tinggal serumah ada yang bekerja di bidang properti, riset pemasaran, dan media massa? [SA]  \\\n",
       "0                                                 Q1                                                                                    \n",
       "1                                                  2                                                                                    \n",
       "2                                                  2                                                                                    \n",
       "3                                                  2                                                                                    \n",
       "4                                                  2                                                                                    \n",
       "\n",
       "  Jenis kelamin? [SA] Dimana domisili tempat tinggal Anda? [SA]  \\\n",
       "0                  Q2                                        Q3   \n",
       "1                   2                                         3   \n",
       "2                   2                                         3   \n",
       "3                   1                                         3   \n",
       "4                   2                                         2   \n",
       "\n",
       "  Berapa usia Anda saat ini? [SA] Apakah Anda sudah menikah? [SA]  \\\n",
       "0                              Q4                              Q5   \n",
       "1                               5                               1   \n",
       "2                               5                               1   \n",
       "3                               6                               1   \n",
       "4                               2                               1   \n",
       "\n",
       "  Apa pekerjaan/ kegiatan utama Anda saat ini? [SA]  \\\n",
       "0                                                Q6   \n",
       "1                                                 4   \n",
       "2                                                 1   \n",
       "3                                                 5   \n",
       "4                                                 5   \n",
       "\n",
       "  Apa kendaraan yang Anda & keluarga miliki? (MA)  \\\n",
       "0                                              Q7   \n",
       "1                                               2   \n",
       "2                                               2   \n",
       "3                                               2   \n",
       "4                                               1   \n",
       "\n",
       "  Apa kendaraan yang Anda & keluarga miliki? (MA).1  \\\n",
       "0                                                Q7   \n",
       "1                                               NaN   \n",
       "2                                               NaN   \n",
       "3                                               NaN   \n",
       "4                                                 2   \n",
       "\n",
       "  Apa kendaraan yang Anda & keluarga miliki? (MA).2  \\\n",
       "0                                                Q7   \n",
       "1                                               NaN   \n",
       "2                                               NaN   \n",
       "3                                               NaN   \n",
       "4                                                 3   \n",
       "\n",
       "  Apa kendaraan yang Anda & keluarga miliki? (MA).3  \\\n",
       "0                                                Q7   \n",
       "1                                               NaN   \n",
       "2                                               NaN   \n",
       "3                                               NaN   \n",
       "4                                               NaN   \n",
       "\n",
       "  Apa kendaraan yang Anda & keluarga miliki? (MA).4  \\\n",
       "0                                                Q7   \n",
       "1                                               NaN   \n",
       "2                                               NaN   \n",
       "3                                               NaN   \n",
       "4                                               NaN   \n",
       "\n",
       "  Pendidikan terakhir Anda? [SA]  \\\n",
       "0                             Q8   \n",
       "1                              5   \n",
       "2                              5   \n",
       "3                              3   \n",
       "4                              5   \n",
       "\n",
       "  Apa latar belakang agama/ keyakinan Anda? [SA]  \\\n",
       "0                                             Q9   \n",
       "1                                              1   \n",
       "2                                              1   \n",
       "3                                              1   \n",
       "4                                              1   \n",
       "\n",
       "  [Family Orientation] Sebagian besar waktu liburan saya dihabiskan BERSAMA KELUARGA  \\\n",
       "0                                                FO1                                   \n",
       "1                                                  5                                   \n",
       "2                                                  5                                   \n",
       "3                                                  6                                   \n",
       "4                                                  6                                   \n",
       "\n",
       "  [Family Orientation] Mengikuti acara keluarga adalah hal yang MEMBOSANKAN bagi saya  \\\n",
       "0                                                FO2                                    \n",
       "1                                                  2                                    \n",
       "2                                                  2                                    \n",
       "3                                                  2                                    \n",
       "4                                                  1                                    \n",
       "\n",
       "  [Family Orientation] Keluarga pasti saya libatkan untuk setiap PENGAMBILAN KEPUTUSAN PENTING dalam hidup (pekerjaan, kuliah, investasi, dll)  \\\n",
       "0                                                FO3                                                                                             \n",
       "1                                                  6                                                                                             \n",
       "2                                                  5                                                                                             \n",
       "3                                                  5                                                                                             \n",
       "4                                                  6                                                                                             \n",
       "\n",
       "  [Family Orientation] Saya pasti mendahulukan kepentingan KELUARGA dibandingkan kepentingan PRIBADI  \\\n",
       "0                                                FO4                                                   \n",
       "1                                                  5                                                   \n",
       "2                                                  4                                                   \n",
       "3                                                  6                                                   \n",
       "4                                                  5                                                   \n",
       "\n",
       "  [Brand Orientation] Citra suatu Brand/ Merek sangat mempengaruhi keputusan saya dalam membeli produk  \\\n",
       "0                                                BO1                                                     \n",
       "1                                                  3                                                     \n",
       "2                                                  3                                                     \n",
       "3                                                  4                                                     \n",
       "4                                                  5                                                     \n",
       "\n",
       "  [Brand Orientation] Saya CENDERUNG LOYAL terhadap suatu Brand/ Merek  \\\n",
       "0                                                BO2                     \n",
       "1                                                  3                     \n",
       "2                                                  2                     \n",
       "3                                                  2                     \n",
       "4                                                  5                     \n",
       "\n",
       "  [Brand Orientation] Saya rela membayar LEBIH MAHAL untuk produk dengan Brand/ Merek yang lebih saya percaya  \\\n",
       "0                                                BO3                                                            \n",
       "1                                                  5                                                            \n",
       "2                                                  2                                                            \n",
       "3                                                  2                                                            \n",
       "4                                                  5                                                            \n",
       "\n",
       "  [Brand Orientation] Bagi saya, Brand/ Merek adalah CERMINAN KUALITAS dari produk yang ditawarkan  \\\n",
       "0                                                BO4                                                 \n",
       "1                                                  5                                                 \n",
       "2                                                  3                                                 \n",
       "3                                                  4                                                 \n",
       "4                                                  5                                                 \n",
       "\n",
       "  [Investment Orientation] Saya mencari PELUANG investasi secara rutin  \\\n",
       "0                                                IO1                     \n",
       "1                                                  5                     \n",
       "2                                                  2                     \n",
       "3                                                  3                     \n",
       "4                                                  5                     \n",
       "\n",
       "  [Investment Orientation] Saya rutin BERINVESTASI terlepas kondisi keuangan bulanan saya  \\\n",
       "0                                                IO2                                        \n",
       "1                                                  5                                        \n",
       "2                                                  2                                        \n",
       "3                                                  2                                        \n",
       "4                                                  4                                        \n",
       "\n",
       "  [Investment Orientation] Bagi saya investasi merupakan cara MENGANTISIPASI kebutuhan di masa depan  \\\n",
       "0                                                IO3                                                   \n",
       "1                                                  5                                                   \n",
       "2                                                  5                                                   \n",
       "3                                                  4                                                   \n",
       "4                                                  5                                                   \n",
       "\n",
       "  [Investment Orientation] Saya MENGUASAI berbagai jenis produk investasi yang tersedia di pasar  \\\n",
       "0                                                IO4                                               \n",
       "1                                                  3                                               \n",
       "2                                                  2                                               \n",
       "3                                                  3                                               \n",
       "4                                                  4                                               \n",
       "\n",
       "  [Decision-Structure Type] Saya selalu MELIBATKAN PIHAK LAIN dalam pengambilan keputusan  \\\n",
       "0                                               DST1                                        \n",
       "1                                                  5                                        \n",
       "2                                                  5                                        \n",
       "3                                                  5                                        \n",
       "4                                                  6                                        \n",
       "\n",
       "  [Decision-Structure Type] Pengambilan keputusan yang saya lakukan pasti sudah menempuh PENGUMPULAN INFORMASI secara menyeluruh  \\\n",
       "0                                               DST2                                                                               \n",
       "1                                                  6                                                                               \n",
       "2                                                  5                                                                               \n",
       "3                                                  5                                                                               \n",
       "4                                                  6                                                                               \n",
       "\n",
       "  [Decision-Structure Type] Saya CENDERUNG CEPAT dalam mengambil keputusan pembelian  \\\n",
       "0                                               DST3                                   \n",
       "1                                                  5                                   \n",
       "2                                                  3                                   \n",
       "3                                                  3                                   \n",
       "4                                                  5                                   \n",
       "\n",
       "  [Decision-Structure Type] Saya hanya akan membeli bila tersedia DANA SECARA TUNAI  \\\n",
       "0                                               DST4                                  \n",
       "1                                                  4                                  \n",
       "2                                                  3                                  \n",
       "3                                                  6                                  \n",
       "4                                                  5                                  \n",
       "\n",
       "  [Self Spontaneity] Saya selalu tertarik MENCOBA HAL BARU  \\\n",
       "0                                                SS1         \n",
       "1                                                  5         \n",
       "2                                                  3         \n",
       "3                                                  3         \n",
       "4                                                  5         \n",
       "\n",
       "  [Self Spontaneity] Segala sesuatu dalam hidup saya SUDAH SAYA RENCANAKAN  \\\n",
       "0                                                SS2                         \n",
       "1                                                  4                         \n",
       "2                                                  4                         \n",
       "3                                                  5                         \n",
       "4                                                  5                         \n",
       "\n",
       "  [Self Spontaneity] Saya senang bila MENJADI YANG PERTAMA membeli produk baru  \\\n",
       "0                                                SS3                             \n",
       "1                                                  5                             \n",
       "2                                                  3                             \n",
       "3                                                  4                             \n",
       "4                                                  6                             \n",
       "\n",
       "  [Self Spontaneity] Saya menilai diri saya CENDERUNG IMPULSIF (mudah terpengaruh dalam membeli produk)  \\\n",
       "0                                                SS4                                                      \n",
       "1                                                  5                                                      \n",
       "2                                                  2                                                      \n",
       "3                                                  2                                                      \n",
       "4                                                  5                                                      \n",
       "\n",
       "  [Attitude Toward Ads] Sebelum membeli, saya SELALU MENCARI informasi PROGRAM PROMOSI yang ditawarkan  \\\n",
       "0                                               ATA1                                                     \n",
       "1                                                  6                                                     \n",
       "2                                                  5                                                     \n",
       "3                                                  5                                                     \n",
       "4                                                  4                                                     \n",
       "\n",
       "  [Attitude Toward Ads] Saya suka MEMPERHATIKAN IKLAN yang muncul di media (konvensional, digital, sosial)  \\\n",
       "0                                               ATA2                                                         \n",
       "1                                                  6                                                         \n",
       "2                                                  5                                                         \n",
       "3                                                  5                                                         \n",
       "4                                                  4                                                         \n",
       "\n",
       "  [Attitude Toward Ads] Saya MUDAH PERCAYA dengan iklan yang disampaikan suatu Brand/ Merek  \\\n",
       "0                                               ATA3                                          \n",
       "1                                                  5                                          \n",
       "2                                                  2                                          \n",
       "3                                                  2                                          \n",
       "4                                                  4                                          \n",
       "\n",
       "  [Attitude Toward Ads] Sebelum membeli, saya sering MEMBANDINGKAN IKLAN dengan PENGALAMAN TEMAN / ORANG LAIN yang menggunakan suatu produk  \\\n",
       "0                                               ATA4                                                                                          \n",
       "1                                                  5                                                                                          \n",
       "2                                                  4                                                                                          \n",
       "3                                                  6                                                                                          \n",
       "4                                                  5                                                                                          \n",
       "\n",
       "  [Passion / Lifestyle Consumption] Setiap akhir pekan saya pasti ada rencana AKTIVITAS DI LUAR RUMAH  \\\n",
       "0                                                LC1                                                    \n",
       "1                                                  6                                                    \n",
       "2                                                  5                                                    \n",
       "3                                                  2                                                    \n",
       "4                                                  6                                                    \n",
       "\n",
       "  [Passion / Lifestyle Consumption] Saya sering berekreasi ke LUAR KOTA / NEGERI  \\\n",
       "0                                                LC2                               \n",
       "1                                                  3                               \n",
       "2                                                  3                               \n",
       "3                                                  2                               \n",
       "4                                                  3                               \n",
       "\n",
       "  [Passion / Lifestyle Consumption] Saya mengalokasikan ANGGARAN KHUSUS untuk memenuhi GAYA HIDUP saya  \\\n",
       "0                                                LC3                                                     \n",
       "1                                                  3                                                     \n",
       "2                                                  2                                                     \n",
       "3                                                  2                                                     \n",
       "4                                                  5                                                     \n",
       "\n",
       "  [Passion / Lifestyle Consumption] Saya memiliki HOBI YANG RUTIN saya jalankan  \\\n",
       "0                                                LC4                              \n",
       "1                                                  4                              \n",
       "2                                                  3                              \n",
       "3                                                  2                              \n",
       "4                                                  4                              \n",
       "\n",
       "  [Future Orientation / Self-Image] Bagi saya, penting untuk saya DIPANDANG BERHASIL/ SUKSES di lingkungan saya  \\\n",
       "0                                                SI1                                                              \n",
       "1                                                  4                                                              \n",
       "2                                                  2                                                              \n",
       "3                                                  3                                                              \n",
       "4                                                  5                                                              \n",
       "\n",
       "  [Future Orientation / Self-Image] Saya tidak peduli dengan PENDAPAT ORANG terhadap diri saya  \\\n",
       "0                                                SI2                                             \n",
       "1                                                  5                                             \n",
       "2                                                  5                                             \n",
       "3                                                  5                                             \n",
       "4                                                  6                                             \n",
       "\n",
       "  [Future Orientation / Self-Image] Penting untuk saya selalu MENGIKUTI TREN yang sedang berkembang  \\\n",
       "0                                                SI3                                                  \n",
       "1                                                  4                                                  \n",
       "2                                                  2                                                  \n",
       "3                                                  2                                                  \n",
       "4                                                  5                                                  \n",
       "\n",
       "  [Future Orientation / Self-Image] Saya sering menceritakan aktivitas diri saya di SOCIAL MEDIA pribadi  \n",
       "0                                                SI4                                                      \n",
       "1                                                  3                                                      \n",
       "2                                                  2                                                      \n",
       "3                                                  2                                                      \n",
       "4                                                  5                                                      "
      ]
     },
     "execution_count": 4,
     "metadata": {},
     "output_type": "execute_result"
    }
   ],
   "source": [
    "df.head()"
   ]
  },
  {
   "cell_type": "markdown",
   "id": "9ec837fc",
   "metadata": {},
   "source": [
    "Melakukan pengecekan missing value dari setiap kolom"
   ]
  },
  {
   "cell_type": "code",
   "execution_count": 5,
   "id": "a23f19ce",
   "metadata": {},
   "outputs": [
    {
     "data": {
      "text/plain": [
       "Apakah Anda dan atau keluarga Anda yang tinggal serumah ada yang bekerja di bidang properti, riset pemasaran, dan media massa? [SA]               0\n",
       "Jenis kelamin? [SA]                                                                                                                               0\n",
       "Dimana domisili tempat tinggal Anda? [SA]                                                                                                         0\n",
       "Berapa usia Anda saat ini? [SA]                                                                                                                   0\n",
       "Apakah Anda sudah menikah? [SA]                                                                                                                   0\n",
       "Apa pekerjaan/ kegiatan utama Anda saat ini? [SA]                                                                                                 0\n",
       "Apa kendaraan yang Anda & keluarga miliki? (MA)                                                                                                   0\n",
       "Apa kendaraan yang Anda & keluarga miliki? (MA).1                                                                                                16\n",
       "Apa kendaraan yang Anda & keluarga miliki? (MA).2                                                                                                50\n",
       "Apa kendaraan yang Anda & keluarga miliki? (MA).3                                                                                                97\n",
       "Apa kendaraan yang Anda & keluarga miliki? (MA).4                                                                                               100\n",
       "Pendidikan terakhir Anda? [SA]                                                                                                                    0\n",
       "Apa latar belakang agama/ keyakinan Anda? [SA]                                                                                                    0\n",
       "[Family Orientation] Sebagian besar waktu liburan saya dihabiskan BERSAMA KELUARGA                                                                0\n",
       "[Family Orientation] Mengikuti acara keluarga adalah hal yang MEMBOSANKAN bagi saya                                                               0\n",
       "[Family Orientation] Keluarga pasti saya libatkan untuk setiap PENGAMBILAN KEPUTUSAN PENTING dalam hidup (pekerjaan, kuliah, investasi, dll)      0\n",
       "[Family Orientation] Saya pasti mendahulukan kepentingan KELUARGA dibandingkan kepentingan PRIBADI                                                0\n",
       "[Brand Orientation] Citra suatu Brand/ Merek sangat mempengaruhi keputusan saya dalam membeli produk                                              0\n",
       "[Brand Orientation] Saya CENDERUNG LOYAL terhadap suatu Brand/ Merek                                                                              0\n",
       "[Brand Orientation] Saya rela membayar LEBIH MAHAL untuk produk dengan Brand/ Merek yang lebih saya percaya                                       0\n",
       "[Brand Orientation] Bagi saya, Brand/ Merek adalah CERMINAN KUALITAS dari produk yang ditawarkan                                                  0\n",
       "[Investment Orientation] Saya mencari PELUANG investasi secara rutin                                                                              0\n",
       "[Investment Orientation] Saya rutin BERINVESTASI terlepas kondisi keuangan bulanan saya                                                           0\n",
       "[Investment Orientation] Bagi saya investasi merupakan cara MENGANTISIPASI kebutuhan di masa depan                                                0\n",
       "[Investment Orientation] Saya MENGUASAI berbagai jenis produk investasi yang tersedia di pasar                                                    0\n",
       "[Decision-Structure Type] Saya selalu MELIBATKAN PIHAK LAIN dalam pengambilan keputusan                                                           0\n",
       "[Decision-Structure Type] Pengambilan keputusan yang saya lakukan pasti sudah menempuh PENGUMPULAN INFORMASI secara menyeluruh                    0\n",
       "[Decision-Structure Type] Saya CENDERUNG CEPAT dalam mengambil keputusan pembelian                                                                0\n",
       "[Decision-Structure Type] Saya hanya akan membeli bila tersedia DANA SECARA TUNAI                                                                 0\n",
       "[Self Spontaneity] Saya selalu tertarik MENCOBA HAL BARU                                                                                          0\n",
       "[Self Spontaneity] Segala sesuatu dalam hidup saya SUDAH SAYA RENCANAKAN                                                                          0\n",
       "[Self Spontaneity] Saya senang bila MENJADI YANG PERTAMA membeli produk baru                                                                      0\n",
       "[Self Spontaneity] Saya menilai diri saya CENDERUNG IMPULSIF (mudah terpengaruh dalam membeli produk)                                             0\n",
       "[Attitude Toward Ads] Sebelum membeli, saya SELALU MENCARI informasi PROGRAM PROMOSI yang ditawarkan                                              0\n",
       "[Attitude Toward Ads] Saya suka MEMPERHATIKAN IKLAN yang muncul di media (konvensional, digital, sosial)                                          0\n",
       "[Attitude Toward Ads] Saya MUDAH PERCAYA dengan iklan yang disampaikan suatu Brand/ Merek                                                         0\n",
       "[Attitude Toward Ads] Sebelum membeli, saya sering MEMBANDINGKAN IKLAN dengan PENGALAMAN TEMAN / ORANG LAIN yang menggunakan suatu produk         0\n",
       "[Passion / Lifestyle Consumption] Setiap akhir pekan saya pasti ada rencana AKTIVITAS DI LUAR RUMAH                                               0\n",
       "[Passion / Lifestyle Consumption] Saya sering berekreasi ke LUAR KOTA / NEGERI                                                                    0\n",
       "[Passion / Lifestyle Consumption] Saya mengalokasikan ANGGARAN KHUSUS untuk memenuhi GAYA HIDUP saya                                              0\n",
       "[Passion / Lifestyle Consumption] Saya memiliki HOBI YANG RUTIN saya jalankan                                                                     0\n",
       "[Future Orientation / Self-Image] Bagi saya, penting untuk saya DIPANDANG BERHASIL/ SUKSES di lingkungan saya                                     0\n",
       "[Future Orientation / Self-Image] Saya tidak peduli dengan PENDAPAT ORANG terhadap diri saya                                                      0\n",
       "[Future Orientation / Self-Image] Penting untuk saya selalu MENGIKUTI TREN yang sedang berkembang                                                 0\n",
       "[Future Orientation / Self-Image] Saya sering menceritakan aktivitas diri saya di SOCIAL MEDIA pribadi                                            0\n",
       "dtype: int64"
      ]
     },
     "execution_count": 5,
     "metadata": {},
     "output_type": "execute_result"
    }
   ],
   "source": [
    "df.isna().sum()"
   ]
  },
  {
   "cell_type": "markdown",
   "id": "d7fa3ef4",
   "metadata": {},
   "source": [
    "kolom **'Apa kendaraan yang Anda & keluarga miliki? (MA).4'** dan kolom **'Apa kendaraan yang Anda & keluarga miliki? (MA).3'** dilakukan penghapusan karena missing valuenya berjumlah sangat banyak yakni 100 missing value dan 97 missing value"
   ]
  },
  {
   "cell_type": "code",
   "execution_count": 6,
   "id": "ac017dd7",
   "metadata": {},
   "outputs": [],
   "source": [
    "df.drop('Apa kendaraan yang Anda & keluarga miliki? (MA).4', axis =1, inplace=True)"
   ]
  },
  {
   "cell_type": "code",
   "execution_count": 7,
   "id": "dfb73364",
   "metadata": {},
   "outputs": [],
   "source": [
    "df.drop('Apa kendaraan yang Anda & keluarga miliki? (MA).3', axis =1, inplace=True)"
   ]
  },
  {
   "cell_type": "markdown",
   "id": "8abc1b14",
   "metadata": {},
   "source": [
    "pengisian missing value kolom **'Apa kendaraan yang Anda & keluarga miliki? (MA).2'**, dan kolom **'Apa kendaraan yang Anda & keluarga miliki? (MA).1'** dilakukan dikarenakan jumlah missing value yang sedikit dan berdasarkan domain knowledge missing value tersebut disebabkan karena ketiadaanya kendaraan yang dimiliki. Maka missing value pada kolom tersebut akan diisi dengan angka nol yang bermakna tidak adanya kendaraan"
   ]
  },
  {
   "cell_type": "code",
   "execution_count": 8,
   "id": "d071ff47",
   "metadata": {},
   "outputs": [],
   "source": [
    "df['Apa kendaraan yang Anda & keluarga miliki? (MA).1'].fillna(0, inplace = True)"
   ]
  },
  {
   "cell_type": "code",
   "execution_count": 9,
   "id": "2138772c",
   "metadata": {},
   "outputs": [],
   "source": [
    "df['Apa kendaraan yang Anda & keluarga miliki? (MA).2'].fillna(0, inplace=True)"
   ]
  },
  {
   "cell_type": "code",
   "execution_count": 10,
   "id": "1d67303f",
   "metadata": {},
   "outputs": [
    {
     "data": {
      "text/plain": [
       "2     68\n",
       "0     16\n",
       "3     14\n",
       "4      2\n",
       "Q7     1\n",
       "Name: Apa kendaraan yang Anda & keluarga miliki? (MA).1, dtype: int64"
      ]
     },
     "execution_count": 10,
     "metadata": {},
     "output_type": "execute_result"
    }
   ],
   "source": [
    "df['Apa kendaraan yang Anda & keluarga miliki? (MA).1'].value_counts()"
   ]
  },
  {
   "cell_type": "code",
   "execution_count": 11,
   "id": "713458a3",
   "metadata": {},
   "outputs": [
    {
     "data": {
      "text/plain": [
       "0     50\n",
       "3     46\n",
       "4      4\n",
       "Q7     1\n",
       "Name: Apa kendaraan yang Anda & keluarga miliki? (MA).2, dtype: int64"
      ]
     },
     "execution_count": 11,
     "metadata": {},
     "output_type": "execute_result"
    }
   ],
   "source": [
    "df['Apa kendaraan yang Anda & keluarga miliki? (MA).2'].value_counts()"
   ]
  },
  {
   "cell_type": "code",
   "execution_count": 12,
   "id": "a206295a",
   "metadata": {},
   "outputs": [
    {
     "data": {
      "text/plain": [
       "False"
      ]
     },
     "execution_count": 12,
     "metadata": {},
     "output_type": "execute_result"
    }
   ],
   "source": [
    "df.duplicated().any()"
   ]
  },
  {
   "cell_type": "markdown",
   "id": "67df7229",
   "metadata": {},
   "source": [
    "Melakukan penghapusan baris pertama dikarenakan kita hanya ingin melihat isi dari data"
   ]
  },
  {
   "cell_type": "code",
   "execution_count": 13,
   "id": "2823f2ef",
   "metadata": {},
   "outputs": [],
   "source": [
    "df = df.drop(0, axis =0)"
   ]
  },
  {
   "cell_type": "markdown",
   "id": "84a2b6fb",
   "metadata": {},
   "source": [
    "# Business Question"
   ]
  },
  {
   "cell_type": "markdown",
   "id": "b6fa1747",
   "metadata": {},
   "source": [
    "### Business Question 1\n",
    "Bagaimana persentase jumlah responden berdasarkan jenis kelamin"
   ]
  },
  {
   "cell_type": "code",
   "execution_count": 14,
   "id": "55118682",
   "metadata": {},
   "outputs": [
    {
     "data": {
      "text/html": [
       "<div>\n",
       "<style scoped>\n",
       "    .dataframe tbody tr th:only-of-type {\n",
       "        vertical-align: middle;\n",
       "    }\n",
       "\n",
       "    .dataframe tbody tr th {\n",
       "        vertical-align: top;\n",
       "    }\n",
       "\n",
       "    .dataframe thead th {\n",
       "        text-align: right;\n",
       "    }\n",
       "</style>\n",
       "<table border=\"1\" class=\"dataframe\">\n",
       "  <thead>\n",
       "    <tr style=\"text-align: right;\">\n",
       "      <th>col_0</th>\n",
       "      <th>proportion %</th>\n",
       "    </tr>\n",
       "    <tr>\n",
       "      <th>Jenis kelamin? [SA]</th>\n",
       "      <th></th>\n",
       "    </tr>\n",
       "  </thead>\n",
       "  <tbody>\n",
       "    <tr>\n",
       "      <th>1</th>\n",
       "      <td>49.0</td>\n",
       "    </tr>\n",
       "    <tr>\n",
       "      <th>2</th>\n",
       "      <td>51.0</td>\n",
       "    </tr>\n",
       "  </tbody>\n",
       "</table>\n",
       "</div>"
      ],
      "text/plain": [
       "col_0                proportion %\n",
       "Jenis kelamin? [SA]              \n",
       "1                            49.0\n",
       "2                            51.0"
      ]
     },
     "execution_count": 14,
     "metadata": {},
     "output_type": "execute_result"
    }
   ],
   "source": [
    "ax = round(pd.crosstab(df['Jenis kelamin? [SA]'], columns='proportion %', normalize=True)*100, 2)\n",
    "ax"
   ]
  },
  {
   "cell_type": "code",
   "execution_count": 15,
   "id": "74b4da53",
   "metadata": {},
   "outputs": [
    {
     "data": {
      "image/png": "[encoded data removed]",
      "text/plain": [
       "<Figure size 504x504 with 1 Axes>"
      ]
     },
     "metadata": {},
     "output_type": "display_data"
    }
   ],
   "source": [
    "## Visualize with Pie Plot\n",
    "plt.figure(figsize=(7,7))\n",
    "plt.pie(df['Jenis kelamin? [SA]'].value_counts(),labels=['Wanita','Pria'],\n",
    "    colors=['g','r'],\n",
    "    shadow=True,\n",
    "    textprops={\n",
    "        'size':20,\n",
    "        'color':'y'\n",
    "    },\n",
    "    autopct='%1.2f%%',\n",
    "    explode=(0.05,0.1))\n",
    "plt.title('persentase jumlah pria dan wanita',color='r',size=20)\n",
    "plt.show()"
   ]
  },
  {
   "cell_type": "markdown",
   "id": "4c21655b",
   "metadata": {},
   "source": [
    "Dari sini dapat disimpulkan bahwa persentase domisili dari pria dan wanita memiliki nilai yang hampir sama yakni 49% berbanding dengan 51%"
   ]
  },
  {
   "cell_type": "markdown",
   "id": "dd716dec",
   "metadata": {},
   "source": [
    "### Business Question 2\n",
    "Bagaimana persentase domisili responden"
   ]
  },
  {
   "cell_type": "code",
   "execution_count": 16,
   "id": "b0fc0d3f",
   "metadata": {},
   "outputs": [
    {
     "data": {
      "text/html": [
       "<div>\n",
       "<style scoped>\n",
       "    .dataframe tbody tr th:only-of-type {\n",
       "        vertical-align: middle;\n",
       "    }\n",
       "\n",
       "    .dataframe tbody tr th {\n",
       "        vertical-align: top;\n",
       "    }\n",
       "\n",
       "    .dataframe thead th {\n",
       "        text-align: right;\n",
       "    }\n",
       "</style>\n",
       "<table border=\"1\" class=\"dataframe\">\n",
       "  <thead>\n",
       "    <tr style=\"text-align: right;\">\n",
       "      <th>col_0</th>\n",
       "      <th>proportion %</th>\n",
       "    </tr>\n",
       "    <tr>\n",
       "      <th>Dimana domisili tempat tinggal Anda? [SA]</th>\n",
       "      <th></th>\n",
       "    </tr>\n",
       "  </thead>\n",
       "  <tbody>\n",
       "    <tr>\n",
       "      <th>1</th>\n",
       "      <td>25.0</td>\n",
       "    </tr>\n",
       "    <tr>\n",
       "      <th>2</th>\n",
       "      <td>69.0</td>\n",
       "    </tr>\n",
       "    <tr>\n",
       "      <th>3</th>\n",
       "      <td>5.0</td>\n",
       "    </tr>\n",
       "    <tr>\n",
       "      <th>4</th>\n",
       "      <td>1.0</td>\n",
       "    </tr>\n",
       "  </tbody>\n",
       "</table>\n",
       "</div>"
      ],
      "text/plain": [
       "col_0                                      proportion %\n",
       "Dimana domisili tempat tinggal Anda? [SA]              \n",
       "1                                                  25.0\n",
       "2                                                  69.0\n",
       "3                                                   5.0\n",
       "4                                                   1.0"
      ]
     },
     "execution_count": 16,
     "metadata": {},
     "output_type": "execute_result"
    }
   ],
   "source": [
    "ax = round(pd.crosstab(df['Dimana domisili tempat tinggal Anda? [SA]'], columns='proportion %', normalize=True)*100, 2)\n",
    "ax"
   ]
  },
  {
   "cell_type": "code",
   "execution_count": 17,
   "id": "1f7858c8",
   "metadata": {},
   "outputs": [
    {
     "data": {
      "image/png": "[encoded data removed]",
      "text/plain": [
       "<Figure size 504x504 with 1 Axes>"
      ]
     },
     "metadata": {},
     "output_type": "display_data"
    }
   ],
   "source": [
    "## Visualize with Pie Plot\n",
    "plt.figure(figsize=(7,7))\n",
    "plt.pie(df['Dimana domisili tempat tinggal Anda? [SA]'].value_counts(),labels=['Bekasi','Jakarta','Tangerang','Depok'],\n",
    "    colors=['g','r', 'b', 'c'],\n",
    "    shadow=True,\n",
    "    textprops={\n",
    "        'size':20,\n",
    "        'color':'y'\n",
    "    },\n",
    "    autopct='%1.2f%%',\n",
    "    explode= None)\n",
    "plt.title('persentase domisili responden',color='r',size=20)\n",
    "plt.show()"
   ]
  },
  {
   "cell_type": "markdown",
   "id": "d17e0612",
   "metadata": {},
   "source": [
    "Dari sini dapat disimpulkan bahwa mayoritas responden berasal dari daerah bekasi dengan persentase sebesar 69% atau sebanyak 69 orang dan kemudian disusul oleh daerah jakarta dengan persentase sebesar 25% atau sebanyak 25 orang. Kemudian tangerang dan depok adalah sisanya dengan persentase 5% dan 1% atau sebanyak 5 orang dan 1 orang."
   ]
  },
  {
   "cell_type": "markdown",
   "id": "173106e0",
   "metadata": {},
   "source": [
    "### Business Question 3\n",
    "bagaimana persebaran usia dari setiap responden"
   ]
  },
  {
   "cell_type": "code",
   "execution_count": 18,
   "id": "15e7afa9",
   "metadata": {},
   "outputs": [
    {
     "data": {
      "image/png": "[encoded data removed]",
      "text/plain": [
       "<Figure size 504x504 with 1 Axes>"
      ]
     },
     "metadata": {
      "needs_background": "light"
     },
     "output_type": "display_data"
    }
   ],
   "source": [
    "plt.figure(figsize=(7,7))\n",
    "plt.title('persebaran usia dari responden')\n",
    "ax = sns.countplot(df['Berapa usia Anda saat ini? [SA]'])\n",
    "for i in ax.containers:\n",
    "    ax.bar_label(i,)\n",
    "plt.xlabel('usia')\n",
    "plt.ylabel('jumlah')\n",
    "labels = ['25 – 28', '29-32', '33-36', '37-40', '41-45', '46-50', '51-60']\n",
    "plt.xticks(np.arange(7), labels=labels, rotation = 45)\n",
    "plt.show()"
   ]
  },
  {
   "cell_type": "markdown",
   "id": "0e03d24b",
   "metadata": {},
   "source": [
    "Berdasarkan grafik barplot tersebut dapat disimpulkan bahwa persebaran usia terbanyak berada di rentang **41 tahun hingga 45 tahun** dengan jumlah sebesar 19 responden lalu diikuti dengan **usia 37 tahun hingga 40 tahun** sebanyak 17 responden kemudian **33 tahun hingga 36 tahun** dan **51 tahun hingga 60 tahun** sebanyak 15 responden. sisanya terdapat pada rentang usia 46 hingga 50 tahun sebanyak 13 responden, 25 tahun hingga 28 tahun sebanyak 12 responden dan 29 tahun hingga 32 tahun sebanyak 9 responden."
   ]
  },
  {
   "cell_type": "markdown",
   "id": "b13ae789",
   "metadata": {},
   "source": [
    "### Business Question 4\n",
    "Bagaimana persentase kondisi status pernikahan responden"
   ]
  },
  {
   "cell_type": "code",
   "execution_count": 19,
   "id": "60660176",
   "metadata": {},
   "outputs": [
    {
     "data": {
      "text/html": [
       "<div>\n",
       "<style scoped>\n",
       "    .dataframe tbody tr th:only-of-type {\n",
       "        vertical-align: middle;\n",
       "    }\n",
       "\n",
       "    .dataframe tbody tr th {\n",
       "        vertical-align: top;\n",
       "    }\n",
       "\n",
       "    .dataframe thead th {\n",
       "        text-align: right;\n",
       "    }\n",
       "</style>\n",
       "<table border=\"1\" class=\"dataframe\">\n",
       "  <thead>\n",
       "    <tr style=\"text-align: right;\">\n",
       "      <th></th>\n",
       "      <th>Apakah Anda dan atau keluarga Anda yang tinggal serumah ada yang bekerja di bidang properti, riset pemasaran, dan media massa? [SA]</th>\n",
       "      <th>Jenis kelamin? [SA]</th>\n",
       "      <th>Dimana domisili tempat tinggal Anda? [SA]</th>\n",
       "      <th>Berapa usia Anda saat ini? [SA]</th>\n",
       "      <th>Apakah Anda sudah menikah? [SA]</th>\n",
       "      <th>Apa pekerjaan/ kegiatan utama Anda saat ini? [SA]</th>\n",
       "      <th>Apa kendaraan yang Anda &amp; keluarga miliki? (MA)</th>\n",
       "      <th>Apa kendaraan yang Anda &amp; keluarga miliki? (MA).1</th>\n",
       "      <th>Apa kendaraan yang Anda &amp; keluarga miliki? (MA).2</th>\n",
       "      <th>Pendidikan terakhir Anda? [SA]</th>\n",
       "      <th>Apa latar belakang agama/ keyakinan Anda? [SA]</th>\n",
       "      <th>[Family Orientation] Sebagian besar waktu liburan saya dihabiskan BERSAMA KELUARGA</th>\n",
       "      <th>[Family Orientation] Mengikuti acara keluarga adalah hal yang MEMBOSANKAN bagi saya</th>\n",
       "      <th>[Family Orientation] Keluarga pasti saya libatkan untuk setiap PENGAMBILAN KEPUTUSAN PENTING dalam hidup (pekerjaan, kuliah, investasi, dll)</th>\n",
       "      <th>[Family Orientation] Saya pasti mendahulukan kepentingan KELUARGA dibandingkan kepentingan PRIBADI</th>\n",
       "      <th>[Brand Orientation] Citra suatu Brand/ Merek sangat mempengaruhi keputusan saya dalam membeli produk</th>\n",
       "      <th>[Brand Orientation] Saya CENDERUNG LOYAL terhadap suatu Brand/ Merek</th>\n",
       "      <th>[Brand Orientation] Saya rela membayar LEBIH MAHAL untuk produk dengan Brand/ Merek yang lebih saya percaya</th>\n",
       "      <th>[Brand Orientation] Bagi saya, Brand/ Merek adalah CERMINAN KUALITAS dari produk yang ditawarkan</th>\n",
       "      <th>[Investment Orientation] Saya mencari PELUANG investasi secara rutin</th>\n",
       "      <th>[Investment Orientation] Saya rutin BERINVESTASI terlepas kondisi keuangan bulanan saya</th>\n",
       "      <th>[Investment Orientation] Bagi saya investasi merupakan cara MENGANTISIPASI kebutuhan di masa depan</th>\n",
       "      <th>[Investment Orientation] Saya MENGUASAI berbagai jenis produk investasi yang tersedia di pasar</th>\n",
       "      <th>[Decision-Structure Type] Saya selalu MELIBATKAN PIHAK LAIN dalam pengambilan keputusan</th>\n",
       "      <th>[Decision-Structure Type] Pengambilan keputusan yang saya lakukan pasti sudah menempuh PENGUMPULAN INFORMASI secara menyeluruh</th>\n",
       "      <th>[Decision-Structure Type] Saya CENDERUNG CEPAT dalam mengambil keputusan pembelian</th>\n",
       "      <th>[Decision-Structure Type] Saya hanya akan membeli bila tersedia DANA SECARA TUNAI</th>\n",
       "      <th>[Self Spontaneity] Saya selalu tertarik MENCOBA HAL BARU</th>\n",
       "      <th>[Self Spontaneity] Segala sesuatu dalam hidup saya SUDAH SAYA RENCANAKAN</th>\n",
       "      <th>[Self Spontaneity] Saya senang bila MENJADI YANG PERTAMA membeli produk baru</th>\n",
       "      <th>[Self Spontaneity] Saya menilai diri saya CENDERUNG IMPULSIF (mudah terpengaruh dalam membeli produk)</th>\n",
       "      <th>[Attitude Toward Ads] Sebelum membeli, saya SELALU MENCARI informasi PROGRAM PROMOSI yang ditawarkan</th>\n",
       "      <th>[Attitude Toward Ads] Saya suka MEMPERHATIKAN IKLAN yang muncul di media (konvensional, digital, sosial)</th>\n",
       "      <th>[Attitude Toward Ads] Saya MUDAH PERCAYA dengan iklan yang disampaikan suatu Brand/ Merek</th>\n",
       "      <th>[Attitude Toward Ads] Sebelum membeli, saya sering MEMBANDINGKAN IKLAN dengan PENGALAMAN TEMAN / ORANG LAIN yang menggunakan suatu produk</th>\n",
       "      <th>[Passion / Lifestyle Consumption] Setiap akhir pekan saya pasti ada rencana AKTIVITAS DI LUAR RUMAH</th>\n",
       "      <th>[Passion / Lifestyle Consumption] Saya sering berekreasi ke LUAR KOTA / NEGERI</th>\n",
       "      <th>[Passion / Lifestyle Consumption] Saya mengalokasikan ANGGARAN KHUSUS untuk memenuhi GAYA HIDUP saya</th>\n",
       "      <th>[Passion / Lifestyle Consumption] Saya memiliki HOBI YANG RUTIN saya jalankan</th>\n",
       "      <th>[Future Orientation / Self-Image] Bagi saya, penting untuk saya DIPANDANG BERHASIL/ SUKSES di lingkungan saya</th>\n",
       "      <th>[Future Orientation / Self-Image] Saya tidak peduli dengan PENDAPAT ORANG terhadap diri saya</th>\n",
       "      <th>[Future Orientation / Self-Image] Penting untuk saya selalu MENGIKUTI TREN yang sedang berkembang</th>\n",
       "      <th>[Future Orientation / Self-Image] Saya sering menceritakan aktivitas diri saya di SOCIAL MEDIA pribadi</th>\n",
       "    </tr>\n",
       "  </thead>\n",
       "  <tbody>\n",
       "    <tr>\n",
       "      <th>1</th>\n",
       "      <td>2</td>\n",
       "      <td>2</td>\n",
       "      <td>3</td>\n",
       "      <td>5</td>\n",
       "      <td>1</td>\n",
       "      <td>4</td>\n",
       "      <td>2</td>\n",
       "      <td>0</td>\n",
       "      <td>0</td>\n",
       "      <td>5</td>\n",
       "      <td>1</td>\n",
       "      <td>5</td>\n",
       "      <td>2</td>\n",
       "      <td>6</td>\n",
       "      <td>5</td>\n",
       "      <td>3</td>\n",
       "      <td>3</td>\n",
       "      <td>5</td>\n",
       "      <td>5</td>\n",
       "      <td>5</td>\n",
       "      <td>5</td>\n",
       "      <td>5</td>\n",
       "      <td>3</td>\n",
       "      <td>5</td>\n",
       "      <td>6</td>\n",
       "      <td>5</td>\n",
       "      <td>4</td>\n",
       "      <td>5</td>\n",
       "      <td>4</td>\n",
       "      <td>5</td>\n",
       "      <td>5</td>\n",
       "      <td>6</td>\n",
       "      <td>6</td>\n",
       "      <td>5</td>\n",
       "      <td>5</td>\n",
       "      <td>6</td>\n",
       "      <td>3</td>\n",
       "      <td>3</td>\n",
       "      <td>4</td>\n",
       "      <td>4</td>\n",
       "      <td>5</td>\n",
       "      <td>4</td>\n",
       "      <td>3</td>\n",
       "    </tr>\n",
       "    <tr>\n",
       "      <th>2</th>\n",
       "      <td>2</td>\n",
       "      <td>2</td>\n",
       "      <td>3</td>\n",
       "      <td>5</td>\n",
       "      <td>1</td>\n",
       "      <td>1</td>\n",
       "      <td>2</td>\n",
       "      <td>0</td>\n",
       "      <td>0</td>\n",
       "      <td>5</td>\n",
       "      <td>1</td>\n",
       "      <td>5</td>\n",
       "      <td>2</td>\n",
       "      <td>5</td>\n",
       "      <td>4</td>\n",
       "      <td>3</td>\n",
       "      <td>2</td>\n",
       "      <td>2</td>\n",
       "      <td>3</td>\n",
       "      <td>2</td>\n",
       "      <td>2</td>\n",
       "      <td>5</td>\n",
       "      <td>2</td>\n",
       "      <td>5</td>\n",
       "      <td>5</td>\n",
       "      <td>3</td>\n",
       "      <td>3</td>\n",
       "      <td>3</td>\n",
       "      <td>4</td>\n",
       "      <td>3</td>\n",
       "      <td>2</td>\n",
       "      <td>5</td>\n",
       "      <td>5</td>\n",
       "      <td>2</td>\n",
       "      <td>4</td>\n",
       "      <td>5</td>\n",
       "      <td>3</td>\n",
       "      <td>2</td>\n",
       "      <td>3</td>\n",
       "      <td>2</td>\n",
       "      <td>5</td>\n",
       "      <td>2</td>\n",
       "      <td>2</td>\n",
       "    </tr>\n",
       "    <tr>\n",
       "      <th>3</th>\n",
       "      <td>2</td>\n",
       "      <td>1</td>\n",
       "      <td>3</td>\n",
       "      <td>6</td>\n",
       "      <td>1</td>\n",
       "      <td>5</td>\n",
       "      <td>2</td>\n",
       "      <td>0</td>\n",
       "      <td>0</td>\n",
       "      <td>3</td>\n",
       "      <td>1</td>\n",
       "      <td>6</td>\n",
       "      <td>2</td>\n",
       "      <td>5</td>\n",
       "      <td>6</td>\n",
       "      <td>4</td>\n",
       "      <td>2</td>\n",
       "      <td>2</td>\n",
       "      <td>4</td>\n",
       "      <td>3</td>\n",
       "      <td>2</td>\n",
       "      <td>4</td>\n",
       "      <td>3</td>\n",
       "      <td>5</td>\n",
       "      <td>5</td>\n",
       "      <td>3</td>\n",
       "      <td>6</td>\n",
       "      <td>3</td>\n",
       "      <td>5</td>\n",
       "      <td>4</td>\n",
       "      <td>2</td>\n",
       "      <td>5</td>\n",
       "      <td>5</td>\n",
       "      <td>2</td>\n",
       "      <td>6</td>\n",
       "      <td>2</td>\n",
       "      <td>2</td>\n",
       "      <td>2</td>\n",
       "      <td>2</td>\n",
       "      <td>3</td>\n",
       "      <td>5</td>\n",
       "      <td>2</td>\n",
       "      <td>2</td>\n",
       "    </tr>\n",
       "    <tr>\n",
       "      <th>4</th>\n",
       "      <td>2</td>\n",
       "      <td>2</td>\n",
       "      <td>2</td>\n",
       "      <td>2</td>\n",
       "      <td>1</td>\n",
       "      <td>5</td>\n",
       "      <td>1</td>\n",
       "      <td>2</td>\n",
       "      <td>3</td>\n",
       "      <td>5</td>\n",
       "      <td>1</td>\n",
       "      <td>6</td>\n",
       "      <td>1</td>\n",
       "      <td>6</td>\n",
       "      <td>5</td>\n",
       "      <td>5</td>\n",
       "      <td>5</td>\n",
       "      <td>5</td>\n",
       "      <td>5</td>\n",
       "      <td>5</td>\n",
       "      <td>4</td>\n",
       "      <td>5</td>\n",
       "      <td>4</td>\n",
       "      <td>6</td>\n",
       "      <td>6</td>\n",
       "      <td>5</td>\n",
       "      <td>5</td>\n",
       "      <td>5</td>\n",
       "      <td>5</td>\n",
       "      <td>6</td>\n",
       "      <td>5</td>\n",
       "      <td>4</td>\n",
       "      <td>4</td>\n",
       "      <td>4</td>\n",
       "      <td>5</td>\n",
       "      <td>6</td>\n",
       "      <td>3</td>\n",
       "      <td>5</td>\n",
       "      <td>4</td>\n",
       "      <td>5</td>\n",
       "      <td>6</td>\n",
       "      <td>5</td>\n",
       "      <td>5</td>\n",
       "    </tr>\n",
       "    <tr>\n",
       "      <th>5</th>\n",
       "      <td>2</td>\n",
       "      <td>1</td>\n",
       "      <td>2</td>\n",
       "      <td>3</td>\n",
       "      <td>1</td>\n",
       "      <td>5</td>\n",
       "      <td>1</td>\n",
       "      <td>2</td>\n",
       "      <td>3</td>\n",
       "      <td>3</td>\n",
       "      <td>1</td>\n",
       "      <td>4</td>\n",
       "      <td>2</td>\n",
       "      <td>4</td>\n",
       "      <td>5</td>\n",
       "      <td>5</td>\n",
       "      <td>5</td>\n",
       "      <td>6</td>\n",
       "      <td>6</td>\n",
       "      <td>6</td>\n",
       "      <td>5</td>\n",
       "      <td>6</td>\n",
       "      <td>5</td>\n",
       "      <td>5</td>\n",
       "      <td>5</td>\n",
       "      <td>5</td>\n",
       "      <td>6</td>\n",
       "      <td>6</td>\n",
       "      <td>5</td>\n",
       "      <td>5</td>\n",
       "      <td>5</td>\n",
       "      <td>6</td>\n",
       "      <td>5</td>\n",
       "      <td>5</td>\n",
       "      <td>5</td>\n",
       "      <td>5</td>\n",
       "      <td>2</td>\n",
       "      <td>4</td>\n",
       "      <td>3</td>\n",
       "      <td>5</td>\n",
       "      <td>6</td>\n",
       "      <td>5</td>\n",
       "      <td>4</td>\n",
       "    </tr>\n",
       "  </tbody>\n",
       "</table>\n",
       "</div>"
      ],
      "text/plain": [
       "  Apakah Anda dan atau keluarga Anda yang tinggal serumah ada yang bekerja di bidang properti, riset pemasaran, dan media massa? [SA]  \\\n",
       "1                                                  2                                                                                    \n",
       "2                                                  2                                                                                    \n",
       "3                                                  2                                                                                    \n",
       "4                                                  2                                                                                    \n",
       "5                                                  2                                                                                    \n",
       "\n",
       "  Jenis kelamin? [SA] Dimana domisili tempat tinggal Anda? [SA]  \\\n",
       "1                   2                                         3   \n",
       "2                   2                                         3   \n",
       "3                   1                                         3   \n",
       "4                   2                                         2   \n",
       "5                   1                                         2   \n",
       "\n",
       "  Berapa usia Anda saat ini? [SA] Apakah Anda sudah menikah? [SA]  \\\n",
       "1                               5                               1   \n",
       "2                               5                               1   \n",
       "3                               6                               1   \n",
       "4                               2                               1   \n",
       "5                               3                               1   \n",
       "\n",
       "  Apa pekerjaan/ kegiatan utama Anda saat ini? [SA]  \\\n",
       "1                                                 4   \n",
       "2                                                 1   \n",
       "3                                                 5   \n",
       "4                                                 5   \n",
       "5                                                 5   \n",
       "\n",
       "  Apa kendaraan yang Anda & keluarga miliki? (MA)  \\\n",
       "1                                               2   \n",
       "2                                               2   \n",
       "3                                               2   \n",
       "4                                               1   \n",
       "5                                               1   \n",
       "\n",
       "  Apa kendaraan yang Anda & keluarga miliki? (MA).1  \\\n",
       "1                                                 0   \n",
       "2                                                 0   \n",
       "3                                                 0   \n",
       "4                                                 2   \n",
       "5                                                 2   \n",
       "\n",
       "  Apa kendaraan yang Anda & keluarga miliki? (MA).2  \\\n",
       "1                                                 0   \n",
       "2                                                 0   \n",
       "3                                                 0   \n",
       "4                                                 3   \n",
       "5                                                 3   \n",
       "\n",
       "  Pendidikan terakhir Anda? [SA]  \\\n",
       "1                              5   \n",
       "2                              5   \n",
       "3                              3   \n",
       "4                              5   \n",
       "5                              3   \n",
       "\n",
       "  Apa latar belakang agama/ keyakinan Anda? [SA]  \\\n",
       "1                                              1   \n",
       "2                                              1   \n",
       "3                                              1   \n",
       "4                                              1   \n",
       "5                                              1   \n",
       "\n",
       "  [Family Orientation] Sebagian besar waktu liburan saya dihabiskan BERSAMA KELUARGA  \\\n",
       "1                                                  5                                   \n",
       "2                                                  5                                   \n",
       "3                                                  6                                   \n",
       "4                                                  6                                   \n",
       "5                                                  4                                   \n",
       "\n",
       "  [Family Orientation] Mengikuti acara keluarga adalah hal yang MEMBOSANKAN bagi saya  \\\n",
       "1                                                  2                                    \n",
       "2                                                  2                                    \n",
       "3                                                  2                                    \n",
       "4                                                  1                                    \n",
       "5                                                  2                                    \n",
       "\n",
       "  [Family Orientation] Keluarga pasti saya libatkan untuk setiap PENGAMBILAN KEPUTUSAN PENTING dalam hidup (pekerjaan, kuliah, investasi, dll)  \\\n",
       "1                                                  6                                                                                             \n",
       "2                                                  5                                                                                             \n",
       "3                                                  5                                                                                             \n",
       "4                                                  6                                                                                             \n",
       "5                                                  4                                                                                             \n",
       "\n",
       "  [Family Orientation] Saya pasti mendahulukan kepentingan KELUARGA dibandingkan kepentingan PRIBADI  \\\n",
       "1                                                  5                                                   \n",
       "2                                                  4                                                   \n",
       "3                                                  6                                                   \n",
       "4                                                  5                                                   \n",
       "5                                                  5                                                   \n",
       "\n",
       "  [Brand Orientation] Citra suatu Brand/ Merek sangat mempengaruhi keputusan saya dalam membeli produk  \\\n",
       "1                                                  3                                                     \n",
       "2                                                  3                                                     \n",
       "3                                                  4                                                     \n",
       "4                                                  5                                                     \n",
       "5                                                  5                                                     \n",
       "\n",
       "  [Brand Orientation] Saya CENDERUNG LOYAL terhadap suatu Brand/ Merek  \\\n",
       "1                                                  3                     \n",
       "2                                                  2                     \n",
       "3                                                  2                     \n",
       "4                                                  5                     \n",
       "5                                                  5                     \n",
       "\n",
       "  [Brand Orientation] Saya rela membayar LEBIH MAHAL untuk produk dengan Brand/ Merek yang lebih saya percaya  \\\n",
       "1                                                  5                                                            \n",
       "2                                                  2                                                            \n",
       "3                                                  2                                                            \n",
       "4                                                  5                                                            \n",
       "5                                                  6                                                            \n",
       "\n",
       "  [Brand Orientation] Bagi saya, Brand/ Merek adalah CERMINAN KUALITAS dari produk yang ditawarkan  \\\n",
       "1                                                  5                                                 \n",
       "2                                                  3                                                 \n",
       "3                                                  4                                                 \n",
       "4                                                  5                                                 \n",
       "5                                                  6                                                 \n",
       "\n",
       "  [Investment Orientation] Saya mencari PELUANG investasi secara rutin  \\\n",
       "1                                                  5                     \n",
       "2                                                  2                     \n",
       "3                                                  3                     \n",
       "4                                                  5                     \n",
       "5                                                  6                     \n",
       "\n",
       "  [Investment Orientation] Saya rutin BERINVESTASI terlepas kondisi keuangan bulanan saya  \\\n",
       "1                                                  5                                        \n",
       "2                                                  2                                        \n",
       "3                                                  2                                        \n",
       "4                                                  4                                        \n",
       "5                                                  5                                        \n",
       "\n",
       "  [Investment Orientation] Bagi saya investasi merupakan cara MENGANTISIPASI kebutuhan di masa depan  \\\n",
       "1                                                  5                                                   \n",
       "2                                                  5                                                   \n",
       "3                                                  4                                                   \n",
       "4                                                  5                                                   \n",
       "5                                                  6                                                   \n",
       "\n",
       "  [Investment Orientation] Saya MENGUASAI berbagai jenis produk investasi yang tersedia di pasar  \\\n",
       "1                                                  3                                               \n",
       "2                                                  2                                               \n",
       "3                                                  3                                               \n",
       "4                                                  4                                               \n",
       "5                                                  5                                               \n",
       "\n",
       "  [Decision-Structure Type] Saya selalu MELIBATKAN PIHAK LAIN dalam pengambilan keputusan  \\\n",
       "1                                                  5                                        \n",
       "2                                                  5                                        \n",
       "3                                                  5                                        \n",
       "4                                                  6                                        \n",
       "5                                                  5                                        \n",
       "\n",
       "  [Decision-Structure Type] Pengambilan keputusan yang saya lakukan pasti sudah menempuh PENGUMPULAN INFORMASI secara menyeluruh  \\\n",
       "1                                                  6                                                                               \n",
       "2                                                  5                                                                               \n",
       "3                                                  5                                                                               \n",
       "4                                                  6                                                                               \n",
       "5                                                  5                                                                               \n",
       "\n",
       "  [Decision-Structure Type] Saya CENDERUNG CEPAT dalam mengambil keputusan pembelian  \\\n",
       "1                                                  5                                   \n",
       "2                                                  3                                   \n",
       "3                                                  3                                   \n",
       "4                                                  5                                   \n",
       "5                                                  5                                   \n",
       "\n",
       "  [Decision-Structure Type] Saya hanya akan membeli bila tersedia DANA SECARA TUNAI  \\\n",
       "1                                                  4                                  \n",
       "2                                                  3                                  \n",
       "3                                                  6                                  \n",
       "4                                                  5                                  \n",
       "5                                                  6                                  \n",
       "\n",
       "  [Self Spontaneity] Saya selalu tertarik MENCOBA HAL BARU  \\\n",
       "1                                                  5         \n",
       "2                                                  3         \n",
       "3                                                  3         \n",
       "4                                                  5         \n",
       "5                                                  6         \n",
       "\n",
       "  [Self Spontaneity] Segala sesuatu dalam hidup saya SUDAH SAYA RENCANAKAN  \\\n",
       "1                                                  4                         \n",
       "2                                                  4                         \n",
       "3                                                  5                         \n",
       "4                                                  5                         \n",
       "5                                                  5                         \n",
       "\n",
       "  [Self Spontaneity] Saya senang bila MENJADI YANG PERTAMA membeli produk baru  \\\n",
       "1                                                  5                             \n",
       "2                                                  3                             \n",
       "3                                                  4                             \n",
       "4                                                  6                             \n",
       "5                                                  5                             \n",
       "\n",
       "  [Self Spontaneity] Saya menilai diri saya CENDERUNG IMPULSIF (mudah terpengaruh dalam membeli produk)  \\\n",
       "1                                                  5                                                      \n",
       "2                                                  2                                                      \n",
       "3                                                  2                                                      \n",
       "4                                                  5                                                      \n",
       "5                                                  5                                                      \n",
       "\n",
       "  [Attitude Toward Ads] Sebelum membeli, saya SELALU MENCARI informasi PROGRAM PROMOSI yang ditawarkan  \\\n",
       "1                                                  6                                                     \n",
       "2                                                  5                                                     \n",
       "3                                                  5                                                     \n",
       "4                                                  4                                                     \n",
       "5                                                  6                                                     \n",
       "\n",
       "  [Attitude Toward Ads] Saya suka MEMPERHATIKAN IKLAN yang muncul di media (konvensional, digital, sosial)  \\\n",
       "1                                                  6                                                         \n",
       "2                                                  5                                                         \n",
       "3                                                  5                                                         \n",
       "4                                                  4                                                         \n",
       "5                                                  5                                                         \n",
       "\n",
       "  [Attitude Toward Ads] Saya MUDAH PERCAYA dengan iklan yang disampaikan suatu Brand/ Merek  \\\n",
       "1                                                  5                                          \n",
       "2                                                  2                                          \n",
       "3                                                  2                                          \n",
       "4                                                  4                                          \n",
       "5                                                  5                                          \n",
       "\n",
       "  [Attitude Toward Ads] Sebelum membeli, saya sering MEMBANDINGKAN IKLAN dengan PENGALAMAN TEMAN / ORANG LAIN yang menggunakan suatu produk  \\\n",
       "1                                                  5                                                                                          \n",
       "2                                                  4                                                                                          \n",
       "3                                                  6                                                                                          \n",
       "4                                                  5                                                                                          \n",
       "5                                                  5                                                                                          \n",
       "\n",
       "  [Passion / Lifestyle Consumption] Setiap akhir pekan saya pasti ada rencana AKTIVITAS DI LUAR RUMAH  \\\n",
       "1                                                  6                                                    \n",
       "2                                                  5                                                    \n",
       "3                                                  2                                                    \n",
       "4                                                  6                                                    \n",
       "5                                                  5                                                    \n",
       "\n",
       "  [Passion / Lifestyle Consumption] Saya sering berekreasi ke LUAR KOTA / NEGERI  \\\n",
       "1                                                  3                               \n",
       "2                                                  3                               \n",
       "3                                                  2                               \n",
       "4                                                  3                               \n",
       "5                                                  2                               \n",
       "\n",
       "  [Passion / Lifestyle Consumption] Saya mengalokasikan ANGGARAN KHUSUS untuk memenuhi GAYA HIDUP saya  \\\n",
       "1                                                  3                                                     \n",
       "2                                                  2                                                     \n",
       "3                                                  2                                                     \n",
       "4                                                  5                                                     \n",
       "5                                                  4                                                     \n",
       "\n",
       "  [Passion / Lifestyle Consumption] Saya memiliki HOBI YANG RUTIN saya jalankan  \\\n",
       "1                                                  4                              \n",
       "2                                                  3                              \n",
       "3                                                  2                              \n",
       "4                                                  4                              \n",
       "5                                                  3                              \n",
       "\n",
       "  [Future Orientation / Self-Image] Bagi saya, penting untuk saya DIPANDANG BERHASIL/ SUKSES di lingkungan saya  \\\n",
       "1                                                  4                                                              \n",
       "2                                                  2                                                              \n",
       "3                                                  3                                                              \n",
       "4                                                  5                                                              \n",
       "5                                                  5                                                              \n",
       "\n",
       "  [Future Orientation / Self-Image] Saya tidak peduli dengan PENDAPAT ORANG terhadap diri saya  \\\n",
       "1                                                  5                                             \n",
       "2                                                  5                                             \n",
       "3                                                  5                                             \n",
       "4                                                  6                                             \n",
       "5                                                  6                                             \n",
       "\n",
       "  [Future Orientation / Self-Image] Penting untuk saya selalu MENGIKUTI TREN yang sedang berkembang  \\\n",
       "1                                                  4                                                  \n",
       "2                                                  2                                                  \n",
       "3                                                  2                                                  \n",
       "4                                                  5                                                  \n",
       "5                                                  5                                                  \n",
       "\n",
       "  [Future Orientation / Self-Image] Saya sering menceritakan aktivitas diri saya di SOCIAL MEDIA pribadi  \n",
       "1                                                  3                                                      \n",
       "2                                                  2                                                      \n",
       "3                                                  2                                                      \n",
       "4                                                  5                                                      \n",
       "5                                                  4                                                      "
      ]
     },
     "execution_count": 19,
     "metadata": {},
     "output_type": "execute_result"
    }
   ],
   "source": [
    "df.head()"
   ]
  },
  {
   "cell_type": "code",
   "execution_count": 20,
   "id": "33d5c914",
   "metadata": {},
   "outputs": [
    {
     "data": {
      "text/plain": [
       "1    92\n",
       "2     5\n",
       "3     3\n",
       "Name: Apakah Anda sudah menikah? [SA], dtype: int64"
      ]
     },
     "execution_count": 20,
     "metadata": {},
     "output_type": "execute_result"
    }
   ],
   "source": [
    "df['Apakah Anda sudah menikah? [SA]'].value_counts()"
   ]
  },
  {
   "cell_type": "code",
   "execution_count": 21,
   "id": "4ac38f6d",
   "metadata": {},
   "outputs": [
    {
     "data": {
      "image/png": "[encoded data removed]",
      "text/plain": [
       "<Figure size 504x504 with 1 Axes>"
      ]
     },
     "metadata": {},
     "output_type": "display_data"
    }
   ],
   "source": [
    "## Visualize with Pie Plot\n",
    "plt.figure(figsize=(7,7))\n",
    "plt.pie(df['Apakah Anda sudah menikah? [SA]'].value_counts(),labels=['Sudah menikah','Belum menikah','Pernah menikah'],\n",
    "    colors=['g','r', 'b'],\n",
    "    shadow=True,\n",
    "    textprops={\n",
    "        'size':20,\n",
    "        'color':'y'\n",
    "    },\n",
    "    autopct='%1.2f%%',\n",
    "    explode= None)\n",
    "plt.title('persentase status pernikahan responden',color='r',size=20)\n",
    "plt.show()"
   ]
  },
  {
   "cell_type": "markdown",
   "id": "92b58468",
   "metadata": {},
   "source": [
    "berdasarkan grafik pie chart tersebut dapat disimpulkan bahwa 92% responden atau sejumlah 92 orang telah melakukan pernikahan. Sedangkan sisanya belum menikah sebanyak 5% atau 5 orang dan pernah menikah sebanyak 3% atau 3 orang. "
   ]
  },
  {
   "cell_type": "markdown",
   "id": "5816f6bf",
   "metadata": {},
   "source": [
    "### Business Question 5\n",
    "Bagaimana persebaran usia responden berdasarkan jenis kelaminnya"
   ]
  },
  {
   "cell_type": "code",
   "execution_count": 22,
   "id": "0fe593f6",
   "metadata": {},
   "outputs": [
    {
     "data": {
      "image/png": "[encoded data removed]",
      "text/plain": [
       "<Figure size 504x504 with 1 Axes>"
      ]
     },
     "metadata": {
      "needs_background": "light"
     },
     "output_type": "display_data"
    }
   ],
   "source": [
    "plt.figure(figsize=(7,7))\n",
    "ax = sns.countplot(df['Berapa usia Anda saat ini? [SA]'], hue = df['Jenis kelamin? [SA]'])\n",
    "labels = ['25 – 28', '29-32', '33-36', '37-40', '41-45', '46-50', '51-60']\n",
    "plt.xticks(np.arange(7), labels=labels, rotation = 45)\n",
    "for i in ax.containers:\n",
    "    ax.bar_label(i,)\n",
    "plt.legend([\"pria\", \"wanita\"])\n",
    "plt.title('Pesebaran usia responden berdasarkan jenis kelaminnya')\n",
    "plt.xlabel('usia')\n",
    "plt.ylabel('jumlah')\n",
    "plt.show()"
   ]
  },
  {
   "cell_type": "markdown",
   "id": "a1c18cd1",
   "metadata": {},
   "source": [
    "Berdasarkan grafik tersebut dapat disimpulkan bahwa pesebaran usia perempuan lebih besar dari usia laki-laki pada rentang usia 33 - 50 tahun dan pada rentang usia inilah pesebaran usia terbanyak berada. Sedangkan pesebaran usia laki-laki lebih besar dari usia perempuan pada rentang 25 - 32 dan 51 - 60 tahun."
   ]
  },
  {
   "cell_type": "markdown",
   "id": "958de64e",
   "metadata": {},
   "source": [
    "### Business Question 6\n",
    "apa saja pekerjaan dari setiap responden?"
   ]
  },
  {
   "cell_type": "code",
   "execution_count": 23,
   "id": "407748b2",
   "metadata": {},
   "outputs": [
    {
     "data": {
      "image/png": "[encoded data removed]",
      "text/plain": [
       "<Figure size 504x504 with 1 Axes>"
      ]
     },
     "metadata": {
      "needs_background": "light"
     },
     "output_type": "display_data"
    }
   ],
   "source": [
    "plt.figure(figsize=(7,7))\n",
    "ax=sns.countplot(df['Apa pekerjaan/ kegiatan utama Anda saat ini? [SA]'])\n",
    "labels = ['IRT', 'PNS', 'Wiraswasta', 'Pegawai Swasta', 'Guru/Dosen', 'Lainnya', 'Tidak bekerja']\n",
    "plt.xticks(np.arange(7), labels=labels, rotation = 45)\n",
    "for i in ax.containers:\n",
    "    ax.bar_label(i,)\n",
    "plt.title('Pekerjaan masing masing responden')\n",
    "plt.xlabel('pekerjaan')\n",
    "plt.ylabel('jumlah')\n",
    "plt.show()"
   ]
  },
  {
   "cell_type": "markdown",
   "id": "fb17a7ef",
   "metadata": {},
   "source": [
    "berdasarkan grafik diatas dapat disimpulkan bahwa mayoritas responden bekerja sebagai wiraswasta dengan jumlah sebesar 56 responden kemudian disusul dengan pegawai swasta dengan jumlah sebesar 24 responden dan IRT sebesar 9 responden. Responden sisanya memiliki pekerjaan dengan jumlah yang sedikit."
   ]
  },
  {
   "cell_type": "markdown",
   "id": "aa2eea49",
   "metadata": {},
   "source": [
    "### Bussiness Question 7\n",
    "Bagaimana pendidikan masing-masing responden"
   ]
  },
  {
   "cell_type": "code",
   "execution_count": 24,
   "id": "0941f987",
   "metadata": {},
   "outputs": [
    {
     "data": {
      "image/png": "[encoded data removed]",
      "text/plain": [
       "<Figure size 504x504 with 1 Axes>"
      ]
     },
     "metadata": {
      "needs_background": "light"
     },
     "output_type": "display_data"
    }
   ],
   "source": [
    "plt.figure(figsize=(7,7))\n",
    "ax=sns.countplot(df['Pendidikan terakhir Anda? [SA]'])\n",
    "labels = ['SD', 'SMP', 'SMA', 'Diploma', 'Sarjana']\n",
    "plt.xticks(np.arange(5), labels=labels, rotation = 45)\n",
    "for i in ax.containers:\n",
    "    ax.bar_label(i,)\n",
    "plt.title('Pendidikan masing masing responden')\n",
    "plt.xlabel('pendidikan')\n",
    "plt.ylabel('jumlah')\n",
    "plt.show()"
   ]
  },
  {
   "cell_type": "markdown",
   "id": "fc49d04a",
   "metadata": {},
   "source": [
    "Berdasarkan grafik tersebut dapat disimpulkan bahwa mayoritas responden berpendidikan SMA atau sederajat dengan jumlah sebesar 42 responden yang kemudian diikuti sarjana dengan jumlah sebesar 27 responden dan diploma dengan jumlah sebesar 16 responden. Responden berpendidikan SMP berjumlah 12 responden dan responden minoritas berpendidikan SD berjumlah 3 orang."
   ]
  },
  {
   "cell_type": "markdown",
   "id": "1fb3f5ee",
   "metadata": {},
   "source": [
    "### Bussiness Question 8\n",
    "Bagaimana pendidikan masing-masing responden untuk setiap jenis kelaminnya"
   ]
  },
  {
   "cell_type": "code",
   "execution_count": 25,
   "id": "3388e3fa",
   "metadata": {},
   "outputs": [
    {
     "data": {
      "image/png": "[encoded data removed]",
      "text/plain": [
       "<Figure size 504x504 with 1 Axes>"
      ]
     },
     "metadata": {
      "needs_background": "light"
     },
     "output_type": "display_data"
    }
   ],
   "source": [
    "plt.figure(figsize=(7,7))\n",
    "ax=sns.countplot(df['Pendidikan terakhir Anda? [SA]'], hue = df['Jenis kelamin? [SA]'])\n",
    "labels = ['SD', 'SMP', 'SMA', 'Diploma', 'Sarjana']\n",
    "plt.xticks(np.arange(5), labels=labels, rotation = 45)\n",
    "for i in ax.containers:\n",
    "    ax.bar_label(i,)\n",
    "plt.title('Pendidikan masing masing responden berdasarkan jenis kelamin')\n",
    "plt.xlabel('pendidikan')\n",
    "plt.ylabel('jumlah')\n",
    "plt.legend(['laki-laki', 'perempuan'])\n",
    "plt.show()"
   ]
  },
  {
   "cell_type": "markdown",
   "id": "83c18310",
   "metadata": {},
   "source": [
    "berdasarkan grafik diatas dapat disimpulkan bahwa pendidikan laki-laki lebih banyak dari perempuan pada jenjang SD (selisih 1 orang), SMA (selisih 2 orang), dan sarjana (selisih 9 orang) sedangakan pendidikan perempuan lebih banyak dari laki-laki pada jenjang SMP (selisih 2 orang) dan diploma (selisih 12 orang)."
   ]
  },
  {
   "cell_type": "markdown",
   "id": "85b73252",
   "metadata": {},
   "source": [
    "### Bussiness Question 9\n",
    "Bagaimana persebaran agama dari masing-masing responden"
   ]
  },
  {
   "cell_type": "code",
   "execution_count": 26,
   "id": "7c8791cd",
   "metadata": {},
   "outputs": [
    {
     "data": {
      "image/png": "[encoded data removed]",
      "text/plain": [
       "<Figure size 504x504 with 1 Axes>"
      ]
     },
     "metadata": {
      "needs_background": "light"
     },
     "output_type": "display_data"
    }
   ],
   "source": [
    "plt.figure(figsize=(7,7))\n",
    "ax= sns.countplot(df['Apa latar belakang agama/ keyakinan Anda? [SA]'])\n",
    "labels = ['Islam', 'Kristen Protestan', 'Kristen Katholik']\n",
    "plt.xticks(np.arange(3), labels=labels, rotation = 45)\n",
    "for i in ax.containers:\n",
    "    ax.bar_label(i,)\n",
    "plt.title('agama masing-masing responden')\n",
    "plt.xlabel('agama')\n",
    "plt.ylabel('jumlah')\n",
    "plt.show()"
   ]
  },
  {
   "cell_type": "markdown",
   "id": "76841780",
   "metadata": {},
   "source": [
    "Berdasarkan grafik dapat disimpulkan bahwa responden yang beragama islam berjumlah 95 orang dan sisanya beragama kristen protestan sejumlah 3 orang dan kristen katholik sejumlah 2 orang"
   ]
  },
  {
   "cell_type": "markdown",
   "id": "68dda20e",
   "metadata": {},
   "source": [
    "### Bussiness Question no 10\n",
    "\n",
    "seberapa besar anggapan responden mengenai mengenai pentingnya pengaruh waktu liburan bersama dengan keluarga"
   ]
  },
  {
   "cell_type": "code",
   "execution_count": 27,
   "id": "0417e6f6",
   "metadata": {},
   "outputs": [
    {
     "data": {
      "image/png": "[encoded data removed]",
      "text/plain": [
       "<Figure size 648x648 with 1 Axes>"
      ]
     },
     "metadata": {
      "needs_background": "light"
     },
     "output_type": "display_data"
    }
   ],
   "source": [
    "plt.figure(figsize=(9,9))\n",
    "x=sns.countplot(df['[Family Orientation] Sebagian besar waktu liburan saya dihabiskan BERSAMA KELUARGA'])\n",
    "for i in x.containers:\n",
    "    x.bar_label(i,)\n",
    "plt.title('pentingnya pengaruh waktu liburan bersama dengan keluarga')\n",
    "plt.xlabel('tingkat kesesuaian')\n",
    "plt.ylabel('jumlah responden')\n",
    "plt.show()"
   ]
  },
  {
   "cell_type": "markdown",
   "id": "5970e118",
   "metadata": {},
   "source": [
    "sebanyak 91 responden menganggap bahwa waktu liburan bersama dengan keluarga itu penting dengan rincian tingkat kesesuaian 4 sebanyak 36 responden, tingkat kesesuaian 5 sebanyak 27 responden, dan tingkat kesesuaian 6 (paling sesuai) sebanyak 28 responden"
   ]
  },
  {
   "cell_type": "markdown",
   "id": "e2b6ac8c",
   "metadata": {},
   "source": [
    "### Bussiness Question 11\n",
    "Seberapa besar anggapan responden mengenai pentingnya melibatkan keluarga dalam pengambilan keputusan penting dalam hidup"
   ]
  },
  {
   "cell_type": "code",
   "execution_count": 28,
   "id": "1affedd2",
   "metadata": {},
   "outputs": [
    {
     "data": {
      "image/png": "[encoded data removed]",
      "text/plain": [
       "<Figure size 648x648 with 1 Axes>"
      ]
     },
     "metadata": {
      "needs_background": "light"
     },
     "output_type": "display_data"
    }
   ],
   "source": [
    "plt.figure(figsize=(9,9))\n",
    "x=sns.countplot(df['[Family Orientation] Keluarga pasti saya libatkan untuk setiap PENGAMBILAN KEPUTUSAN PENTING dalam hidup (pekerjaan, kuliah, investasi, dll)'])\n",
    "for i in x.containers:\n",
    "    x.bar_label(i,)\n",
    "plt.title('pentingnya melibatkan keluarga dalam pengambilan keputusan penting dalam hidup')\n",
    "plt.xlabel('tingkat kesesuaian')\n",
    "plt.ylabel('jumlah responden')\n",
    "plt.show()"
   ]
  },
  {
   "cell_type": "markdown",
   "id": "4a52b213",
   "metadata": {},
   "source": [
    "Berdasarkan grafik dapat disimpulkan bahwa mayoritas tingkat kesesuaian responden dalam pengambilan keputusan penting dalam hidup sangat tinggi. Hal ini berdasarkan tingkat kesesuaian 4 sebesar 24 orang, tingkat kesesuaian 5 sebesar 43 orang, dan tingkat kesesuaian 6 sebesar 27 orang."
   ]
  },
  {
   "cell_type": "markdown",
   "id": "4fd611fd",
   "metadata": {},
   "source": [
    "### Bussiness Question 12\n",
    "Apakah responden yang memilih waktu liburan bersama dengan keluarga **kurang sesuai dengan dirinya** juga memilih untuk **kurang melibatkan** keluarga dalam pengambilan keputusan penting dalam hidup"
   ]
  },
  {
   "cell_type": "code",
   "execution_count": 50,
   "id": "08eb86b4",
   "metadata": {},
   "outputs": [],
   "source": [
    "df_1 = df[df['[Family Orientation] Sebagian besar waktu liburan saya dihabiskan BERSAMA KELUARGA']<4]"
   ]
  },
  {
   "cell_type": "code",
   "execution_count": 51,
   "id": "e250b499",
   "metadata": {},
   "outputs": [
    {
     "data": {
      "text/plain": [
       "[Family Orientation] Keluarga pasti saya libatkan untuk setiap PENGAMBILAN KEPUTUSAN PENTING dalam hidup (pekerjaan, kuliah, investasi, dll)\n",
       "2    1\n",
       "4    4\n",
       "5    3\n",
       "6    1\n",
       "Name: [Family Orientation] Sebagian besar waktu liburan saya dihabiskan BERSAMA KELUARGA, dtype: int64"
      ]
     },
     "execution_count": 51,
     "metadata": {},
     "output_type": "execute_result"
    }
   ],
   "source": [
    "x=df_1.groupby(['[Family Orientation] Keluarga pasti saya libatkan untuk setiap PENGAMBILAN KEPUTUSAN PENTING dalam hidup (pekerjaan, kuliah, investasi, dll)'])['[Family Orientation] Sebagian besar waktu liburan saya dihabiskan BERSAMA KELUARGA'].count()\n",
    "x"
   ]
  },
  {
   "cell_type": "code",
   "execution_count": 52,
   "id": "2ae38d41",
   "metadata": {},
   "outputs": [
    {
     "data": {
      "text/plain": [
       "<Figure size 504x504 with 0 Axes>"
      ]
     },
     "metadata": {},
     "output_type": "display_data"
    },
    {
     "data": {
      "image/png": "[encoded data removed]",
      "text/plain": [
       "<Figure size 432x288 with 1 Axes>"
      ]
     },
     "metadata": {
      "needs_background": "light"
     },
     "output_type": "display_data"
    }
   ],
   "source": [
    "plt.figure(figsize=(7,7))\n",
    "x = pd.DataFrame(x).reset_index()\n",
    "x.plot(x='[Family Orientation] Keluarga pasti saya libatkan untuk setiap PENGAMBILAN KEPUTUSAN PENTING dalam hidup (pekerjaan, kuliah, investasi, dll)', y='[Family Orientation] Sebagian besar waktu liburan saya dihabiskan BERSAMA KELUARGA',kind='bar')\n",
    "plt.title('pengaruh waktu liburan bersama dengan keluarga terhadap pengambilan keputusan dalam hidup')\n",
    "plt.xlabel('tingkat kesesuaian')\n",
    "plt.ylabel('jumlah responden')\n",
    "plt.legend('',frameon=False)\n",
    "plt.xticks(rotation=False)\n",
    "plt.show()"
   ]
  },
  {
   "cell_type": "markdown",
   "id": "9f0b39a0",
   "metadata": {},
   "source": [
    "Ternyata responden yang memilih waktu liburan bersama dengan keluarga **kurang sesuai** dengan dirinya secara mayoritas memilih untuk melibatkan keluarga dalam pengambilan keputusan penting dalam hidup. Hal ini berdasarkan tingkat kesesuaian 4 sebanyak 4 orang, tingkat kesesuaian 5 sebanyak 3 orang dan tingkat kesesuaian 6 sebanyak 1 orang. "
   ]
  },
  {
   "cell_type": "markdown",
   "id": "dd2f9249",
   "metadata": {},
   "source": [
    "### Bussiness Question 13\n",
    "Bagaimana citra responden terhadap suatu brand berdasarkan jenis kelaminnya"
   ]
  },
  {
   "cell_type": "code",
   "execution_count": 32,
   "id": "d42278ba",
   "metadata": {},
   "outputs": [
    {
     "data": {
      "image/png": "[encoded data removed]",
      "text/plain": [
       "<Figure size 648x648 with 1 Axes>"
      ]
     },
     "metadata": {
      "needs_background": "light"
     },
     "output_type": "display_data"
    }
   ],
   "source": [
    "plt.figure(figsize=(9,9))\n",
    "x=sns.countplot(df['[Brand Orientation] Citra suatu Brand/ Merek sangat mempengaruhi keputusan saya dalam membeli produk'], hue =df['Jenis kelamin? [SA]'])\n",
    "for i in x.containers:\n",
    "    x.bar_label(i,)\n",
    "plt.title('pengaruh citra responden terhadap suatu brand berdasarkan jenis kelaminnya')\n",
    "plt.xlabel('tingkat kesesuaian')\n",
    "plt.ylabel('jumlah responden')\n",
    "plt.legend(['laki-laki', 'perempuan'])\n",
    "plt.show()"
   ]
  },
  {
   "cell_type": "markdown",
   "id": "5446e3f6",
   "metadata": {},
   "source": [
    "Berdasarkan grafik dapat disimpulkan bahwa mayoritas responden memilih tingkat kesesuaian yang tinggi (tingkat kesesuaian 4 dan 5 sebanyak 28 dan 38 responden). Citra responden terhadap suatu brand berdasarkan jenis kelaminnya juga hampir sama berdasarkan jumlah pilihan responden. **Berdasarkan tingkat kesesuaian no 6 (paling sesuai) laki-laki lebih tertarik terhadap barang branded/bermerek dalam membeli barang dibandingkan dengan perempuan**, argumentasi ini diperkuat dengan jumlah reponden perempuan yang lebih banyak memilih tingkat kesesuaian no 3 dibandingkan dengan laki-laki.  "
   ]
  },
  {
   "cell_type": "markdown",
   "id": "71097380",
   "metadata": {},
   "source": [
    "### Bussiness Question 14\n",
    "Bagaimana tingkat kesesuaian pengambilan keputusan responden berdasarkan pengumpulan informasi secara menyeluruh"
   ]
  },
  {
   "cell_type": "code",
   "execution_count": 33,
   "id": "d1d25f73",
   "metadata": {},
   "outputs": [
    {
     "data": {
      "image/png": "[encoded data removed]",
      "text/plain": [
       "<Figure size 648x648 with 1 Axes>"
      ]
     },
     "metadata": {
      "needs_background": "light"
     },
     "output_type": "display_data"
    }
   ],
   "source": [
    "plt.figure(figsize=(9,9))\n",
    "x=sns.countplot(df['[Decision-Structure Type] Pengambilan keputusan yang saya lakukan pasti sudah menempuh PENGUMPULAN INFORMASI secara menyeluruh'])\n",
    "for i in x.containers:\n",
    "    x.bar_label(i,)\n",
    "plt.title('tingkat kesesuaian pengambilan keputusan responden berdasarkan pengumpulan informasi secara menyeluruh')\n",
    "plt.xlabel('tingkat kesesuaian')\n",
    "plt.ylabel('jumlah responden')\n",
    "plt.show()"
   ]
  },
  {
   "cell_type": "markdown",
   "id": "e248597b",
   "metadata": {},
   "source": [
    "berdasarkan grafik dapat disimpulkan bahwa dalam pengambilan keputusan responden dengan pengumpulan informasi secara menyeluruh mayoritas menjawab tingkat kesesuaian no 5 sebanyak 54 responden"
   ]
  },
  {
   "cell_type": "markdown",
   "id": "a5e55c15",
   "metadata": {},
   "source": [
    "### Bussiness Question 15\n",
    "Apakah mayoritas responden yang menjawab tingkat kesesuaian mayoritas (no 5) pada pengumpulan informasi secara menyeluruh juga memilih tingkat kesesuaian yang tinggi juga dalam mencari program promosi yang ditawarkan"
   ]
  },
  {
   "cell_type": "code",
   "execution_count": 34,
   "id": "a4f07436",
   "metadata": {},
   "outputs": [],
   "source": [
    "df_2 = df[df['[Decision-Structure Type] Pengambilan keputusan yang saya lakukan pasti sudah menempuh PENGUMPULAN INFORMASI secara menyeluruh']==5]"
   ]
  },
  {
   "cell_type": "code",
   "execution_count": 35,
   "id": "a4133a85",
   "metadata": {},
   "outputs": [
    {
     "data": {
      "text/plain": [
       "[Attitude Toward Ads] Sebelum membeli, saya SELALU MENCARI informasi PROGRAM PROMOSI yang ditawarkan\n",
       "3     1\n",
       "4     9\n",
       "5    40\n",
       "6     4\n",
       "Name: [Decision-Structure Type] Pengambilan keputusan yang saya lakukan pasti sudah menempuh PENGUMPULAN INFORMASI secara menyeluruh, dtype: int64"
      ]
     },
     "execution_count": 35,
     "metadata": {},
     "output_type": "execute_result"
    }
   ],
   "source": [
    "y = df_2.groupby('[Attitude Toward Ads] Sebelum membeli, saya SELALU MENCARI informasi PROGRAM PROMOSI yang ditawarkan')['[Decision-Structure Type] Pengambilan keputusan yang saya lakukan pasti sudah menempuh PENGUMPULAN INFORMASI secara menyeluruh'].count()\n",
    "y"
   ]
  },
  {
   "cell_type": "code",
   "execution_count": 48,
   "id": "e1367f9e",
   "metadata": {},
   "outputs": [
    {
     "data": {
      "text/plain": [
       "<Figure size 504x504 with 0 Axes>"
      ]
     },
     "metadata": {},
     "output_type": "display_data"
    },
    {
     "data": {
      "image/png": "[encoded data removed]",
      "text/plain": [
       "<Figure size 432x288 with 1 Axes>"
      ]
     },
     "metadata": {
      "needs_background": "light"
     },
     "output_type": "display_data"
    }
   ],
   "source": [
    "plt.figure(figsize=(7,7))\n",
    "y = pd.DataFrame(y).reset_index()\n",
    "y.plot(x='[Attitude Toward Ads] Sebelum membeli, saya SELALU MENCARI informasi PROGRAM PROMOSI yang ditawarkan', \n",
    "       y='[Decision-Structure Type] Pengambilan keputusan yang saya lakukan pasti sudah menempuh PENGUMPULAN INFORMASI secara menyeluruh',kind='bar')\n",
    "plt.title('pengaruh waktu liburan bersama dengan keluarga terhadap pengambilan keputusan dalam hidup')\n",
    "plt.xlabel('tingkat kesesuaian')\n",
    "plt.ylabel('Jumlah responden')\n",
    "plt.legend('',frameon=False)\n",
    "plt.xticks(rotation=False)\n",
    "plt.show()"
   ]
  },
  {
   "cell_type": "markdown",
   "id": "1c4b32ef",
   "metadata": {},
   "source": [
    "Berdasarkan grafik dapat disimpulkan bahwa responden yang memilih tingkat kesesuaian mayoritas (no 5) pada pengumpulan informasi secara menyeluruh juga memilih tingkat kesesuaian yang tinggi juga dalam mencari program promosi yang ditawarkan. Hal ini berdasarkan tingkat kesesuaian 4 sebanyak 9 responden, tingkat kesesuaian 5 sebanyak 40 responden, dan tingkat kesesuaian 6 sebanyak 4 responden"
   ]
  },
  {
   "cell_type": "markdown",
   "id": "2774452f",
   "metadata": {},
   "source": [
    "### Bussiness Question 16\n",
    "Bagaimana tingkat kesesuaian pengambilan keputusan responden secara cepat"
   ]
  },
  {
   "cell_type": "code",
   "execution_count": 39,
   "id": "c71a2934",
   "metadata": {},
   "outputs": [
    {
     "data": {
      "image/png": "[encoded data removed]",
      "text/plain": [
       "<Figure size 648x648 with 1 Axes>"
      ]
     },
     "metadata": {
      "needs_background": "light"
     },
     "output_type": "display_data"
    }
   ],
   "source": [
    "plt.figure(figsize=(9,9))\n",
    "x=sns.countplot(df['[Decision-Structure Type] Saya CENDERUNG CEPAT dalam mengambil keputusan pembelian'])\n",
    "for i in x.containers:\n",
    "    x.bar_label(i,)\n",
    "plt.title('tingkat kesesuaian pengambilan keputusan responden secara cepat')\n",
    "plt.xlabel('tingkat kesesuaian')\n",
    "plt.ylabel('jumlah responden')\n",
    "plt.show()"
   ]
  },
  {
   "cell_type": "markdown",
   "id": "6dcb9abc",
   "metadata": {},
   "source": [
    "berdasarkan grafik dapat disimpulkan bahwa mayoritas responden memiliki kemampuan pengambilan keputusan secara cepat dengan total 78 responden yang terdiri dari tingkat kesesuaian 4 sebesar 32 responden, tingkat kesesuaian 5 sebesar 41 responden, dan tingkat kesesuaian 6 sebesar 5 responden."
   ]
  },
  {
   "cell_type": "markdown",
   "id": "dcd83da4",
   "metadata": {},
   "source": [
    "### Bussiness Question 17\n",
    "Apakah responden dengan tingkat kesesuaian pengambilan keputusan cepat juga termasuk responden yang impulsif (mudah terpengaruh dalam membeli produk)"
   ]
  },
  {
   "cell_type": "code",
   "execution_count": 54,
   "id": "6d7ff80a",
   "metadata": {},
   "outputs": [],
   "source": [
    "df_3 = df[df['[Decision-Structure Type] Saya CENDERUNG CEPAT dalam mengambil keputusan pembelian']>3]"
   ]
  },
  {
   "cell_type": "code",
   "execution_count": 55,
   "id": "5d212c58",
   "metadata": {},
   "outputs": [
    {
     "data": {
      "text/plain": [
       "[Self Spontaneity] Saya menilai diri saya CENDERUNG IMPULSIF (mudah terpengaruh dalam membeli produk)\n",
       "2    11\n",
       "3    22\n",
       "4    18\n",
       "5    26\n",
       "6     1\n",
       "Name: [Decision-Structure Type] Saya CENDERUNG CEPAT dalam mengambil keputusan pembelian, dtype: int64"
      ]
     },
     "execution_count": 55,
     "metadata": {},
     "output_type": "execute_result"
    }
   ],
   "source": [
    "z = df_3.groupby('[Self Spontaneity] Saya menilai diri saya CENDERUNG IMPULSIF (mudah terpengaruh dalam membeli produk)')['[Decision-Structure Type] Saya CENDERUNG CEPAT dalam mengambil keputusan pembelian'].count()\n",
    "z"
   ]
  },
  {
   "cell_type": "code",
   "execution_count": 56,
   "id": "468e876f",
   "metadata": {},
   "outputs": [
    {
     "data": {
      "text/plain": [
       "<Figure size 504x504 with 0 Axes>"
      ]
     },
     "metadata": {},
     "output_type": "display_data"
    },
    {
     "data": {
      "image/png": "[encoded data removed]",
      "text/plain": [
       "<Figure size 432x288 with 1 Axes>"
      ]
     },
     "metadata": {
      "needs_background": "light"
     },
     "output_type": "display_data"
    }
   ],
   "source": [
    "plt.figure(figsize=(7,7))\n",
    "z = pd.DataFrame(z).reset_index()\n",
    "z.plot(x='[Self Spontaneity] Saya menilai diri saya CENDERUNG IMPULSIF (mudah terpengaruh dalam membeli produk)', \n",
    "       y='[Decision-Structure Type] Saya CENDERUNG CEPAT dalam mengambil keputusan pembelian',kind='bar')\n",
    "plt.title('pengaruh tingkat kesesuaian pengambilan keputusan cepat terhadap sikap impulsif responden')\n",
    "plt.xlabel('tingkat kesesuaian')\n",
    "plt.ylabel('Jumlah responden')\n",
    "plt.legend('',frameon=False)\n",
    "plt.xticks(rotation=False)\n",
    "plt.show()"
   ]
  },
  {
   "cell_type": "markdown",
   "id": "c3b3a1ad",
   "metadata": {},
   "source": [
    "Berdasarkan grafik dapat diketahui bahwa terdapat 57% responden atau 45 orang dengan tingkat pengambilan keputusan cepat yang juga merupakan responden yang impulsif. 45 orang ini terdiri dari tingkat kesesuaian 4 sebanyak 18 orang, tingkat kesesuaian 5 sebanyak 26 orang, dan tingkat kesesuaian 6 sebanyak 1 orang."
   ]
  },
  {
   "cell_type": "markdown",
   "id": "55488ddf",
   "metadata": {},
   "source": [
    "### Bussiness Question 18\n",
    "Bagaimana tingkat kesesuaian responden sering berekreasi keluar kota/negri"
   ]
  },
  {
   "cell_type": "code",
   "execution_count": 61,
   "id": "5553e469",
   "metadata": {},
   "outputs": [
    {
     "data": {
      "image/png": "[encoded data removed]",
      "text/plain": [
       "<Figure size 648x648 with 1 Axes>"
      ]
     },
     "metadata": {
      "needs_background": "light"
     },
     "output_type": "display_data"
    }
   ],
   "source": [
    "plt.figure(figsize=(9,9))\n",
    "x=sns.countplot(df['[Passion / Lifestyle Consumption] Saya sering berekreasi ke LUAR KOTA / NEGERI'])\n",
    "for i in x.containers:\n",
    "    x.bar_label(i,)\n",
    "plt.title('tingkat kesesuaian responden sering berekreasi keluar kota/negeri')\n",
    "plt.xlabel('tingkat kesesuaian')\n",
    "plt.ylabel('jumlah responden')\n",
    "plt.show()"
   ]
  },
  {
   "cell_type": "markdown",
   "id": "9cd33aa2",
   "metadata": {},
   "source": [
    "Berdasarkan grafik dapat diketahui bahwa terdapat 59 orang dengan tingkat kesesuaian yang tinggi pada responden yang sering berekreasi keluar kota atau keluar negeri. 59 orang tersebut terdiri dari tingkat kesesuaian 4 sebanyak 26 orang, tingkat kesesuaian 5 sebanyak 27 orang dan tingkat kesesuaian 6 sebanyak 6 orang."
   ]
  },
  {
   "cell_type": "markdown",
   "id": "c03badc8",
   "metadata": {},
   "source": [
    "### Bussiness Question 19\n",
    "Apakah responden yang memiliki tingkat kesesuaian tinggi (4, 5, dan 6) yang sering berekreasi keluar kota/luar negeri juga sering menceritakan aktivitas diri di sosial media"
   ]
  },
  {
   "cell_type": "code",
   "execution_count": 62,
   "id": "e28f5393",
   "metadata": {},
   "outputs": [],
   "source": [
    "df_4 = df[df['[Passion / Lifestyle Consumption] Saya sering berekreasi ke LUAR KOTA / NEGERI']>3]"
   ]
  },
  {
   "cell_type": "code",
   "execution_count": 66,
   "id": "4134606b",
   "metadata": {},
   "outputs": [
    {
     "data": {
      "text/plain": [
       "[Future Orientation / Self-Image] Saya sering menceritakan aktivitas diri saya di SOCIAL MEDIA pribadi\n",
       "1     2\n",
       "2    17\n",
       "3     4\n",
       "4    13\n",
       "5    23\n",
       "Name: [Passion / Lifestyle Consumption] Saya sering berekreasi ke LUAR KOTA / NEGERI, dtype: int64"
      ]
     },
     "execution_count": 66,
     "metadata": {},
     "output_type": "execute_result"
    }
   ],
   "source": [
    "q = df_4.groupby('[Future Orientation / Self-Image] Saya sering menceritakan aktivitas diri saya di SOCIAL MEDIA pribadi')['[Passion / Lifestyle Consumption] Saya sering berekreasi ke LUAR KOTA / NEGERI'].count()\n",
    "q"
   ]
  },
  {
   "cell_type": "code",
   "execution_count": 65,
   "id": "09359d14",
   "metadata": {},
   "outputs": [
    {
     "data": {
      "text/plain": [
       "<Figure size 504x504 with 0 Axes>"
      ]
     },
     "metadata": {},
     "output_type": "display_data"
    },
    {
     "data": {
      "image/png": "[encoded data removed]",
      "text/plain": [
       "<Figure size 432x288 with 1 Axes>"
      ]
     },
     "metadata": {
      "needs_background": "light"
     },
     "output_type": "display_data"
    }
   ],
   "source": [
    "plt.figure(figsize=(7,7))\n",
    "q = pd.DataFrame(q).reset_index()\n",
    "q.plot(x='[Future Orientation / Self-Image] Saya sering menceritakan aktivitas diri saya di SOCIAL MEDIA pribadi', \n",
    "       y='[Passion / Lifestyle Consumption] Saya sering berekreasi ke LUAR KOTA / NEGERI',kind='bar')\n",
    "plt.title('pengaruh tingkat kesesuaian rekreasi keluar kota/negeri terhadap aktivitas diri di sosmed')\n",
    "plt.xlabel('tingkat kesesuaian')\n",
    "plt.ylabel('Jumlah responden')\n",
    "plt.legend('',frameon=False)\n",
    "plt.xticks(rotation=False)\n",
    "plt.show()"
   ]
  },
  {
   "cell_type": "markdown",
   "id": "48588e64",
   "metadata": {},
   "source": [
    "Berdasarkan grafik dapat disimpulkan bahwa sebanyak 36 responden dari 59 responden yang sering berekreasi keluar kota/keluar negeri sering menceritakan aktivitas diri mereka di sosial media. 36 responden tersebut terbagi menjadi 13 responden dengan tingkat kesesuaian 4 dan 23 responden dengan tingkat kesesuaian 5. Apabila di persentasekan terdapat 61% responden yang sering menceritakan aktivitas diri mereka di sosial media dari total responden yang sering berekreasi keluar kota/luar negeri"
   ]
  },
  {
   "cell_type": "markdown",
   "id": "e9bb741c",
   "metadata": {},
   "source": [
    "### Bussiness Question 20\n",
    "\n",
    "Bagaimana penguasaan responden terhadap berbagai jenis produk investasi yang tersedia di pasar berdasarkan tingkat pendidikannya"
   ]
  },
  {
   "cell_type": "code",
   "execution_count": 71,
   "id": "a3534ec3",
   "metadata": {},
   "outputs": [
    {
     "data": {
      "image/png": "[encoded data removed]",
      "text/plain": [
       "<Figure size 648x648 with 1 Axes>"
      ]
     },
     "metadata": {
      "needs_background": "light"
     },
     "output_type": "display_data"
    }
   ],
   "source": [
    "plt.figure(figsize=(9,9))\n",
    "x=sns.countplot(df['[Investment Orientation] Saya MENGUASAI berbagai jenis produk investasi yang tersedia di pasar'], \n",
    "                hue=df['Pendidikan terakhir Anda? [SA]'])\n",
    "for i in x.containers:\n",
    "    x.bar_label(i,)\n",
    "plt.title('tingkat penguasaan responden terhadap berbagai jenis produk investasi berdasarkan tingkat pendidikannya')\n",
    "plt.xlabel('tingkat kesesuaian')\n",
    "plt.ylabel('jumlah responden')\n",
    "plt.legend(['SD','SMP','SMA', 'Diploma', 'Sarjana'])\n",
    "plt.show()"
   ]
  },
  {
   "cell_type": "markdown",
   "id": "280833b1",
   "metadata": {},
   "source": [
    "Berdasarkan grafik tersebut dapat disimpulkan bahwa :\n",
    "- pada tingkat pendidikan SD, tingkat penguasaan berbagai jenis produk investasi berada di dalam tingkat kesesuaian 2, 3 dan 5 dengan masing-masing sebanyak 1 responden. Berarti terdapat 1 responden dengan tingkat kesesuaian yang tinggi (4, 5, dan 6) dalam memahami berbagai jenis produk investasi.\n",
    "- pada tingkat pendidikan SMP, tingkat penguasaan berbagai jenis produk investasi berada di dalam tingkat kesesuaian 2 sebanyak 1 responden, tingkat kesesuaian 3 sebanyak 3 responden, tingkat kesesuaian 4 sebanyak 3 responden, dan tingkat kesesuaian 5 sebanyak 5 responden. Berarti terdapat 8 responden dengan tingkat kesesuaian yang tinggi (4, 5, dan 6) dalam memahami berbagai jenis produk investasi.\n",
    "- pada tingkat pendidikan SMA, tingkat penguasaan berbagai jenis produk investasi berada di dalam tingkat kesesuaian 2 sebanyak 3 responden, tingkat kesesuaian 3 sebanyak 11 responden, tingkat kesesuaian 4 sebanyak 16 responden, tingkat kesesuaian 5 sebanyak 10 responden, dan tingkat kesesuaian 6 sebanyak 2 responden. Berarti terdapat 28 responden dengan tingkat kesesuaian yang tinggi (4, 5, dan 6) dalam memahami berbagai jenis produk investasi.\n",
    "- pada tingkat pendidikan Diploma, tingkat penguasaan berbagai jenis produk investasi berada di dalam tingkat kesesuaian 2 sebanyak 4 responden, tingkat kesesuaian 3 sebanyak 3 responden, tingkat kesesuaian 4 sebanyak 2 responden, tingkat kesesuaian 5 sebanyak 6 responden, dan tingkat kesesuaian 6 sebanyak 1 responden. Berarti terdapat 9 responden dengan tingkat kesesuaian yang tinggi (4, 5, dan 6) dalam memahami berbagai jenis produk investasi.\n",
    "- pada tingkat pendidikan Sarjana, tingkat penguasaan berbagai jenis produk investasi berada di dalam tingkat kesesuaian 1 sebanyak 1 responden, 2 sebanyak 4 responden, tingkat kesesuaian 3 sebanyak 4 responden, tingkat kesesuaian 4 sebanyak 7 responden, tingkat kesesuaian 5 sebanyak 9 responden, dan tingkat kesesuaian 6 sebanyak 2 responden. Berarti terdapat 18 responden dengan tingkat kesesuaian yang tinggi (4, 5, dan 6) dalam memahami berbagai jenis produk investasi."
   ]
  },
  {
   "cell_type": "code",
   "execution_count": null,
   "id": "dbfe1d8b",
   "metadata": {},
   "outputs": [],
   "source": []
  }
 ],
 "metadata": {
  "kernelspec": {
   "display_name": "Python 3 (ipykernel)",
   "language": "python",
   "name": "python3"
  },
  "language_info": {
   "codemirror_mode": {
    "name": "ipython",
    "version": 3
   },
   "file_extension": ".py",
   "mimetype": "text/x-python",
   "name": "python",
   "nbconvert_exporter": "python",
   "pygments_lexer": "ipython3",
   "version": "3.9.12"
  }
 },
 "nbformat": 4,
 "nbformat_minor": 5
}
